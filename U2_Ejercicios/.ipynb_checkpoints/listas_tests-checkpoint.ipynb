{
 "cells": [
  {
   "cell_type": "markdown",
   "id": "0c5968b9-8c79-4bc3-afcf-847f5901e26d",
   "metadata": {
    "tags": []
   },
   "source": [
    "### Test Listas"
   ]
  },
  {
   "cell_type": "code",
   "execution_count": 1,
   "id": "abfa79f0-8cb3-43c3-be36-4dfcaca2a9d5",
   "metadata": {
    "tags": []
   },
   "outputs": [],
   "source": [
    "lista = [100, 200, 300, 250, 1000, 2000]"
   ]
  },
  {
   "cell_type": "code",
   "execution_count": 3,
   "id": "af2a429d-e951-47cd-b6f1-d0ad7e3437b1",
   "metadata": {
    "tags": []
   },
   "outputs": [
    {
     "name": "stdout",
     "output_type": "stream",
     "text": [
      "Mayor valor: 2000\n",
      "Menor valor: 100\n",
      "Suma: 3850\n",
      "Nº elementos: 6\n"
     ]
    }
   ],
   "source": [
    "mayor = max(lista)\n",
    "menor = min(lista)\n",
    "suma = sum(lista)\n",
    "numero_elementos = len(lista)\n",
    "print(f'Mayor valor: {mayor}')\n",
    "print(f'Menor valor: {menor}')\n",
    "print(f'Suma: {suma}')\n",
    "print(f'Nº elementos: {numero_elementos}')"
   ]
  },
  {
   "cell_type": "code",
   "execution_count": 5,
   "id": "9ff171c1-2069-4ae4-87e2-81a3bb8b8f0a",
   "metadata": {},
   "outputs": [
    {
     "name": "stdout",
     "output_type": "stream",
     "text": [
      "H-o-l-a- -d-e-s-d-e- -P-y-t-h-o-n-"
     ]
    }
   ],
   "source": [
    "# convertir cadena en lista\n",
    "cadena = \"Hola desde Python\"\n",
    "lista_cad = list(cadena)\n",
    "for _ in lista_cad:\n",
    "    print(_ , end=\"-\")"
   ]
  },
  {
   "cell_type": "code",
   "execution_count": 7,
   "id": "99b663d6-3564-4873-8d4a-0e847e616f87",
   "metadata": {
    "tags": []
   },
   "outputs": [
    {
     "name": "stdout",
     "output_type": "stream",
     "text": [
      "[9999, 200, 300, 250, 1000, 2000]\n",
      "[9999, 200, 300, 250, 1000, 2000]\n"
     ]
    }
   ],
   "source": [
    "# Copiar listas\n",
    "lista1 = [100, 200, 300, 250, 1000, 2000]\n",
    "lista2 = lista1\n",
    "\n",
    "# comprobamos que la modificación afecta a ambas listas\n",
    "# son el mismo objeto\n",
    "lista1[0]=9999\n",
    "\n",
    "print(lista1)\n",
    "print(lista2)"
   ]
  },
  {
   "cell_type": "code",
   "execution_count": null,
   "id": "e4e6bff7-2915-446b-a5a3-e2ff0aeac684",
   "metadata": {},
   "outputs": [],
   "source": []
  }
 ],
 "metadata": {
  "kernelspec": {
   "display_name": "Python 3 (ipykernel)",
   "language": "python",
   "name": "python3"
  },
  "language_info": {
   "codemirror_mode": {
    "name": "ipython",
    "version": 3
   },
   "file_extension": ".py",
   "mimetype": "text/x-python",
   "name": "python",
   "nbconvert_exporter": "python",
   "pygments_lexer": "ipython3",
   "version": "3.8.17"
  }
 },
 "nbformat": 4,
 "nbformat_minor": 5
}
