{
 "cells": [
  {
   "cell_type": "code",
   "execution_count": 1,
   "id": "20811fd4-5574-407c-8cb0-db484c1c40ed",
   "metadata": {
    "tags": []
   },
   "outputs": [
    {
     "name": "stdout",
     "output_type": "stream",
     "text": [
      "Python, tipo: <class 'str'>\n",
      "Java, tipo: <class 'str'>\n",
      "23, tipo: <class 'int'>\n",
      "23.301, tipo: <class 'float'>\n",
      "True, tipo: <class 'bool'>\n",
      "apple, tipo: <class 'str'>\n"
     ]
    }
   ],
   "source": [
    "# 1.Muestra el tipo de datos asociado a cada elemento de esta lista\n",
    "lista = [\"Python\", \"Java\", 23, 23.301, True, \"apple\"]\n",
    "for _ in lista:\n",
    "    print(f'{_}, tipo: {type(_)}')"
   ]
  },
  {
   "cell_type": "code",
   "execution_count": 14,
   "id": "fd800c96-2d55-4d39-85c4-9770f1f68abf",
   "metadata": {
    "tags": []
   },
   "outputs": [
    {
     "name": "stdout",
     "output_type": "stream",
     "text": [
      "apple, True, 23.301, 23, Java, Python, "
     ]
    }
   ],
   "source": [
    "# 2 Muestra los valores de la lista desde el final mediante un bucle\n",
    "lista = [\"Python\", \"Java\", 23, 23.301, True, \"apple\"]\n",
    "for _ in range(-1, (len(lista) + 1) * -1, -1):\n",
    "    print (lista[_], end=\", \")"
   ]
  },
  {
   "cell_type": "code",
   "execution_count": 3,
   "id": "98306825-667d-48d3-b32b-1ab7cfdf683b",
   "metadata": {
    "tags": []
   },
   "outputs": [
    {
     "name": "stdout",
     "output_type": "stream",
     "text": [
      "Python, Java, apple, "
     ]
    }
   ],
   "source": [
    "# 3. Muestra solo los valores de tipo texto de la lista\n",
    "lista = [\"Python\", \"Java\", 23, 23.301, True, \"apple\"]\n",
    "for valor in lista:\n",
    "    if isinstance(valor, str):\n",
    "        print (valor, end=\", \")\n"
   ]
  },
  {
   "cell_type": "code",
   "execution_count": 4,
   "id": "176f2b42-cc45-4799-8851-8a859ab3bb90",
   "metadata": {
    "tags": []
   },
   "outputs": [
    {
     "data": {
      "text/plain": [
       "['Python', 'Java', 'apple']"
      ]
     },
     "execution_count": 4,
     "metadata": {},
     "output_type": "execute_result"
    }
   ],
   "source": [
    "# 4. Extraer las cadenas en una nueva lista\n",
    "lista = [\"Python\", \"Java\", 23, 23.301, True, \"apple\"]\n",
    "cadenas = [x for x in lista if isinstance(x, str)]\n",
    "cadenas"
   ]
  },
  {
   "cell_type": "code",
   "execution_count": 5,
   "id": "e99de2d8-336b-4d0a-b68e-d9ce8ac96d2a",
   "metadata": {
    "tags": []
   },
   "outputs": [
    {
     "data": {
      "text/plain": [
       "['Python', 'Java', 'apple', 'casting', 'objeto', 'método']"
      ]
     },
     "execution_count": 5,
     "metadata": {},
     "output_type": "execute_result"
    }
   ],
   "source": [
    "# 5. Añadir los valores de esta nueva lista a la lista de cadenas anterior\n",
    "otra = [\"casting\", \"objeto\", \"método\"]\n",
    "cadenas.extend(otra)\n",
    "cadenas"
   ]
  },
  {
   "cell_type": "code",
   "execution_count": 6,
   "id": "6915f42a-c8ac-4e6c-b6ef-d13dcfdefeb4",
   "metadata": {
    "tags": []
   },
   "outputs": [
    {
     "data": {
      "text/plain": [
       "['apple', 'casting', 'objeto', 'método']"
      ]
     },
     "execution_count": 6,
     "metadata": {},
     "output_type": "execute_result"
    }
   ],
   "source": [
    "# 6. Eliminar de esta nueva lista los valores contenidos en esta otra lista\n",
    "elimina = [\"Java\", \"Python\"]\n",
    "for _ in elimina:\n",
    "    if _ in cadenas:\n",
    "        cadenas.remove(_)\n",
    "cadenas"
   ]
  },
  {
   "cell_type": "code",
   "execution_count": 12,
   "id": "20f7e0d5-e47f-4523-9c83-6aec925f0aa8",
   "metadata": {
    "tags": []
   },
   "outputs": [
    {
     "data": {
      "text/plain": [
       "[7, 22, 20, 19, 15, 23, 10, 12]"
      ]
     },
     "execution_count": 12,
     "metadata": {},
     "output_type": "execute_result"
    }
   ],
   "source": [
    "# 7.A partir de esta lista de números, lista =  [12, 10, 23, 15, 19, 20, 22, 7], obtener la inversa.\n",
    "lista[-1::-1]"
   ]
  },
  {
   "cell_type": "code",
   "execution_count": 11,
   "id": "ad1d8033-fdfe-4651-bc9f-8860844ed59f",
   "metadata": {},
   "outputs": [
    {
     "data": {
      "text/plain": [
       "[36, 30, 69, 45, 57, 60, 66, 21]"
      ]
     },
     "execution_count": 11,
     "metadata": {},
     "output_type": "execute_result"
    }
   ],
   "source": [
    "# 8. A partir de esta lista de números, lista =  [12, 10, 23, 15, 19, 20, 22, 7], \n",
    "# obtener otra como resultado de multiplicar cada valor de la lista inicial por 3.\n",
    "lista =  [12, 10, 23, 15, 19, 20, 22, 7]\n",
    "por_3 = [x * 3 for x in lista]\n",
    "por_3"
   ]
  },
  {
   "cell_type": "code",
   "execution_count": 17,
   "id": "ae1cb6d4-a4c2-4330-9912-8825b77dab71",
   "metadata": {
    "tags": []
   },
   "outputs": [
    {
     "name": "stdout",
     "output_type": "stream",
     "text": [
      "Primero: sandía\n",
      "Último: fresa\n"
     ]
    }
   ],
   "source": [
    "# 9. Mostrar el primer valor de la lista y el último. \n",
    "frutas = ['sandía', 'melón', 'plátano', 'melocotón', 'fresa']\n",
    "print(f'Primero: {frutas[0]}')\n",
    "print(f'Último: {frutas[-1]}')"
   ]
  },
  {
   "cell_type": "code",
   "execution_count": 19,
   "id": "73221787-f243-4fbc-80ab-e2d432bf9711",
   "metadata": {
    "tags": []
   },
   "outputs": [
    {
     "data": {
      "text/plain": [
       "['fresa', 'melón', 'plátano', 'melocotón', 'sandía']"
      ]
     },
     "execution_count": 19,
     "metadata": {},
     "output_type": "execute_result"
    }
   ],
   "source": [
    "# 10. Intercambiar los valores primero y último. \n",
    "frutas = ['sandía', 'melón', 'plátano', 'melocotón', 'fresa']\n",
    "frutas[0], frutas[-1]=frutas[-1], frutas[0]\n",
    "frutas\n"
   ]
  },
  {
   "cell_type": "code",
   "execution_count": 21,
   "id": "fd731c59-a908-4e91-ac17-6176478044ee",
   "metadata": {
    "tags": []
   },
   "outputs": [
    {
     "name": "stdout",
     "output_type": "stream",
     "text": [
      "[1, 2, 3, 4, 5, 6, 7, 8, 9, 10, 11, 12, 13, 14, 15, 16, 17, 18, 19, 20]\n",
      "[1, 2, 3, 4, 5, 6, 7, 8, 9, 10, 11]\n",
      "[12, 13, 14, 15, 16, 17, 18, 19, 20]\n"
     ]
    }
   ],
   "source": [
    "# 11. Genera una lista con los valores pares del 1 al 20.\n",
    "lista = [x for x in range(1,21,1)]\n",
    "lista1 = lista[:11:1]\n",
    "lista2 = lista[11::1]\n",
    "print(lista)\n",
    "print(lista1)\n",
    "print(lista2)"
   ]
  },
  {
   "cell_type": "code",
   "execution_count": 23,
   "id": "c9c7b0d3-de30-4cfb-9f2b-ff73aeecc3d3",
   "metadata": {
    "tags": []
   },
   "outputs": [
    {
     "data": {
      "text/plain": [
       "[20, 19, 18, 17, 16]"
      ]
     },
     "execution_count": 23,
     "metadata": {},
     "output_type": "execute_result"
    }
   ],
   "source": [
    "# 12. Genera una lista con los valores pares del 1 al 20 y \n",
    "#a partir de ella obtener otra lista con los 5 valores  del final.\n",
    "# el ultimo valor de la lista original será el primero en la nueva lista\n",
    "lista = [x for x in range(1,21,1)]\n",
    "cinco_ultimos= lista[-1:-6:-1]\n",
    "cinco_ultimos"
   ]
  },
  {
   "cell_type": "code",
   "execution_count": 1,
   "id": "3f7a428d-200d-464a-b15a-5d7c992ac481",
   "metadata": {
    "tags": []
   },
   "outputs": [
    {
     "name": "stdout",
     "output_type": "stream",
     "text": [
      "['Albacete', 'Alicante', 'Almería']\n",
      "Ascendente: ['Albacete', 'Alicante', 'Almería', 'Asturias', 'Badajoz', 'Burgos', 'Córdoba', 'Álava', 'Ávila']\n",
      "Descendente: ['Ávila', 'Álava', 'Córdoba', 'Burgos', 'Badajoz', 'Asturias', 'Almería', 'Alicante', 'Albacete']\n"
     ]
    }
   ],
   "source": [
    "# 13. Dada una lista de ciudades, \n",
    "# Extraer en otra lista aquellas que cuyo nombre comience por una valor concreto. \n",
    "# Ordenar descendente\n",
    "ciudades=[\"Córdoba\", \"Álava\", \"Albacete\", \"Alicante\", \"Almería\", \"Asturias\", \"Ávila\", \"Badajoz\", \"Burgos\"]\n",
    "con_i = [c for c in ciudades if c.startswith('Al')]\n",
    "print(con_i)\n",
    "ciudades.sort()\n",
    "print (f'Ascendente: {ciudades}')\n",
    "\n",
    "ciudades.sort(reverse=True)\n",
    "print (f'Descendente: {ciudades}')"
   ]
  },
  {
   "cell_type": "code",
   "execution_count": 41,
   "id": "756dea27-2a4f-47f5-aecf-f58a7e3f12b1",
   "metadata": {
    "tags": []
   },
   "outputs": [
    {
     "name": "stdout",
     "output_type": "stream",
     "text": [
      "Pares: [2, 12, 14, 16, 18, 20]\n",
      "Impares: [31, 11, 13, 15, 17, 19]\n"
     ]
    }
   ],
   "source": [
    "# 14. Dada una lista de números enteros, mostrar en primero pares y luego impares.\n",
    "numeros = [ 31, 2, 11, 12, 13, 14, 15, 16, 17, 18, 19, 20]\n",
    "print (f'Pares: {[_ for _ in numeros if _%2==0]}')\n",
    "print (f'Impares: {[_ for _ in numeros if _%2==1]}')"
   ]
  },
  {
   "cell_type": "code",
   "execution_count": 2,
   "id": "4e43d293-4a16-4d61-9a62-90a1824dfc87",
   "metadata": {
    "tags": []
   },
   "outputs": [
    {
     "name": "stdout",
     "output_type": "stream",
     "text": [
      "{'triángulo', 'rectángulo', 'trapecio', 'circunferencia', 'círculo', 'rombo'}\n"
     ]
    }
   ],
   "source": [
    "# 15. En este ejercicio partimos de un conjunto (set) de figuras: \n",
    "figuras = {'triángulo', 'círculo', 'rombo', 'trapecio'}\n",
    "nuevas = ['trapecio', 'rectángulo','circunferencia', 'trapecio']\n",
    "for _ in nuevas:\n",
    "    figuras.add(_)\n",
    "print(figuras)"
   ]
  },
  {
   "cell_type": "code",
   "execution_count": 11,
   "id": "f4fc3732-170c-4025-b015-bf41b06c8f53",
   "metadata": {},
   "outputs": [
    {
     "name": "stdout",
     "output_type": "stream",
     "text": [
      "Ventas por marcas en 2022\n",
      "Toyota--------- Unidades:73505\n",
      "Kia------------ Unidades:63345\n",
      "Hyundai-------- Unidades:59503\n",
      "Volkswagen----- Unidades:58874\n",
      "Peugeot-------- Unidades:54737\n",
      "Seat----------- Unidades:49200\n",
      "Renault-------- Unidades:45515\n"
     ]
    }
   ],
   "source": [
    "# 16. Crea un diccionario que almacene marcas de coches y unidades vendidas en 2019. \n",
    "# Imprime los valores del diccionario recorriéndolo\n",
    "ventas = {\n",
    "    'Toyota':  73505,\n",
    "    'Kia': 63345,\n",
    "    'Hyundai': 59503,\n",
    "    'Volkswagen': 58874,\n",
    "    'Peugeot': 54737,\n",
    "    'Seat': 49200,\n",
    "    'Renault': 45515\n",
    "}\n",
    "\n",
    "print('Ventas por marcas en 2022')\n",
    "for k,v in ventas.items():\n",
    "    print(k.ljust(15, '-') + ' Unidades:' + str(v))"
   ]
  },
  {
   "cell_type": "code",
   "execution_count": 12,
   "id": "d5657add-b4f6-4622-8394-7bbb924afd89",
   "metadata": {
    "tags": []
   },
   "outputs": [
    {
     "name": "stdout",
     "output_type": "stream",
     "text": [
      "{\n",
      "    \"Toyota\": 73505,\n",
      "    \"Kia\": 63345,\n",
      "    \"Hyundai\": 59503,\n",
      "    \"Volkswagen\": 58874,\n",
      "    \"Peugeot\": 54737,\n",
      "    \"Seat\": 49200,\n",
      "    \"Renault\": 45515\n",
      "}\n"
     ]
    }
   ],
   "source": [
    "import json\n",
    "json_ventas = json.dumps(ventas, indent = 4)  \n",
    "print(json_ventas) "
   ]
  },
  {
   "cell_type": "code",
   "execution_count": 30,
   "id": "5587e342-c2a5-4189-a46e-431ab5f5348e",
   "metadata": {},
   "outputs": [
    {
     "data": {
      "text/plain": [
       "{'Toyota': 73505,\n",
       " 'Kia': 63345,\n",
       " 'Hyundai': 59503,\n",
       " 'Volkswagen': 58874,\n",
       " 'Peugeot': 54737,\n",
       " 'Seat': 49200,\n",
       " 'Renault': 46000}"
      ]
     },
     "execution_count": 30,
     "metadata": {},
     "output_type": "execute_result"
    }
   ],
   "source": [
    "# 18. Partiendo del diccionario de ventas del ejercicio.\n",
    "# Añadir una nueva pareja: (Citröen, 43160)\n",
    "\n",
    "ventas = {\n",
    "    'Toyota':  73505,\n",
    "    'Kia': 63345,\n",
    "    'Hyundai': 59503,\n",
    "    'Volkswagen': 58874,\n",
    "    'Peugeot': 54737,\n",
    "    'Seat': 49200,\n",
    "    'Renault': 45515\n",
    "}\n",
    "\n",
    "ventas['Citroen'] = 43160\n",
    "ventas['Renault']=46000\n",
    "ventas.pop('Citroen')\n",
    "ventas\n"
   ]
  },
  {
   "cell_type": "code",
   "execution_count": 31,
   "id": "8ad97cbf-9717-4905-9f39-0f2928e31546",
   "metadata": {
    "tags": []
   },
   "outputs": [
    {
     "name": "stdout",
     "output_type": "stream",
     "text": [
      "True\n",
      "False\n"
     ]
    }
   ],
   "source": [
    "# 19. Crear una aplicación Python que compruebe si existe una key en un dicci\n",
    "def is_key_present(d,k):\n",
    "    return k in d\n",
    "print(is_key_present(ventas, 'Seat'))\n",
    "print(is_key_present(ventas, 'Lexus'))"
   ]
  },
  {
   "cell_type": "code",
   "execution_count": 34,
   "id": "e3fad01b-d24d-492f-afbc-1e731112e1cd",
   "metadata": {
    "tags": []
   },
   "outputs": [
    {
     "name": "stdout",
     "output_type": "stream",
     "text": [
      "Toyota---73505\n",
      "Kia---63345\n",
      "Hyundai---59503\n",
      "Volkswagen---58874\n",
      "Peugeot---54737\n",
      "Seat---49200\n",
      "Renault---46000\n"
     ]
    }
   ],
   "source": [
    "# 20. Itera sobre los elementos de un diccionario.\n",
    "# a. Obtener todas las keys\n",
    "for k,v in ventas.items():\n",
    "    print(f'{k}---{v}')"
   ]
  },
  {
   "cell_type": "code",
   "execution_count": 36,
   "id": "53f1c3cf-38ab-4d37-b0cb-36bff4766319",
   "metadata": {
    "tags": []
   },
   "outputs": [
    {
     "name": "stdout",
     "output_type": "stream",
     "text": [
      "73505\n",
      "63345\n",
      "59503\n",
      "58874\n",
      "54737\n",
      "49200\n",
      "46000\n"
     ]
    }
   ],
   "source": [
    "# b. Obtener todas los valores\n",
    "for v in ventas.values():\n",
    "    print(f'{v}')"
   ]
  },
  {
   "cell_type": "code",
   "execution_count": 37,
   "id": "eb155251-1880-43c6-926a-7c177446e8d7",
   "metadata": {
    "tags": []
   },
   "outputs": [
    {
     "name": "stdout",
     "output_type": "stream",
     "text": [
      "Toyota---73505\n",
      "Kia---63345\n",
      "Hyundai---59503\n",
      "Volkswagen---58874\n",
      "Peugeot---54737\n",
      "Seat---49200\n",
      "Renault---46000\n"
     ]
    }
   ],
   "source": [
    "# c. Obtener todas las parejas\n",
    "for k,v in ventas.items():\n",
    "    print(f'{k}---{v}')"
   ]
  },
  {
   "cell_type": "code",
   "execution_count": 42,
   "id": "09b01a34-fc95-4825-836e-eb63d6194d5d",
   "metadata": {
    "tags": []
   },
   "outputs": [
    {
     "name": "stdout",
     "output_type": "stream",
     "text": [
      "Hyundai\n",
      "Kia\n",
      "Peugeot\n",
      "Renault\n",
      "Seat\n",
      "Toyota\n",
      "Volkswagen\n"
     ]
    }
   ],
   "source": [
    "# 21. Crear una aplicación Python que ordene un diccionario \n",
    "# a. por sus keys \n",
    "for k in sorted(ventas):\n",
    "    print(k)\n"
   ]
  },
  {
   "cell_type": "code",
   "execution_count": 50,
   "id": "0d65f8fb-555e-4c62-ac78-606da8ea1f64",
   "metadata": {
    "tags": []
   },
   "outputs": [
    {
     "name": "stdout",
     "output_type": "stream",
     "text": [
      "[('Hyundai', 59503), ('Kia', 63345), ('Peugeot', 54737), ('Renault', 46000), ('Seat', 49200), ('Toyota', 73505), ('Volkswagen', 58874)]\n"
     ]
    }
   ],
   "source": [
    "# b. por sus valores\n",
    "import operator\n",
    "sorted_d = sorted(ventas.items(), key=operator.itemgetter(0))\n",
    "print(sorted_d)"
   ]
  },
  {
   "cell_type": "code",
   "execution_count": 58,
   "id": "30dac986-39c7-4f50-adef-c436e3d194ac",
   "metadata": {
    "tags": []
   },
   "outputs": [
    {
     "data": {
      "text/plain": [
       "{1: 10, 2: 20, 3: 33, 4: 40, 5: 50, 6: 60}"
      ]
     },
     "execution_count": 58,
     "metadata": {},
     "output_type": "execute_result"
    }
   ],
   "source": [
    "# 22. Crear una aplicación Python que permita concatenar varios diccionarios obteniendo uno nuevo. \n",
    "# dic1={1:10, 2:20}, dic2={3:30, 4:40}, dic3={5:50,6:60}\n",
    "dic1={1:10, 2:20}\n",
    "dic2={3:30, 4:40}\n",
    "dic3={5:50, 6:60, 3:33}\n",
    "dic4={}\n",
    "for d in (dic1,dic2,dic3):\n",
    "    dic4.update(d)\n",
    "dic4"
   ]
  },
  {
   "cell_type": "code",
   "execution_count": null,
   "id": "2e0d8d9b-a3b4-467f-98f5-8c2520c4eabc",
   "metadata": {},
   "outputs": [],
   "source": []
  }
 ],
 "metadata": {
  "kernelspec": {
   "display_name": "Python 3 (ipykernel)",
   "language": "python",
   "name": "python3"
  },
  "language_info": {
   "codemirror_mode": {
    "name": "ipython",
    "version": 3
   },
   "file_extension": ".py",
   "mimetype": "text/x-python",
   "name": "python",
   "nbconvert_exporter": "python",
   "pygments_lexer": "ipython3",
   "version": "3.8.17"
  }
 },
 "nbformat": 4,
 "nbformat_minor": 5
}
