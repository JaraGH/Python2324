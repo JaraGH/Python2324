{
 "cells": [
  {
   "cell_type": "markdown",
   "id": "505f366f-c495-4683-8b79-33063a643d73",
   "metadata": {},
   "source": [
    "### Tuplas Tests"
   ]
  },
  {
   "cell_type": "code",
   "execution_count": 7,
   "id": "c041ab78-4a7d-4019-b008-b367e7d552f6",
   "metadata": {
    "tags": []
   },
   "outputs": [],
   "source": [
    "tupla = ('patata', 'lechuga', 'tomate', 'pepino')\n",
    "otra = (10,20,30,40)"
   ]
  },
  {
   "cell_type": "code",
   "execution_count": 8,
   "id": "83d21b8c-6cec-4a52-9240-496c30b186bf",
   "metadata": {
    "tags": []
   },
   "outputs": [
    {
     "data": {
      "text/plain": [
       "(10, 20, 30, 40, 10, 20, 30, 40)"
      ]
     },
     "execution_count": 8,
     "metadata": {},
     "output_type": "execute_result"
    }
   ],
   "source": [
    "# Operaciones con tuplas\n",
    "otra = otra * 2\n",
    "otra"
   ]
  },
  {
   "cell_type": "code",
   "execution_count": 12,
   "id": "0e663f63-8f14-41f6-b6f6-ca12621cb4f2",
   "metadata": {
    "tags": []
   },
   "outputs": [
    {
     "data": {
      "text/plain": [
       "True"
      ]
     },
     "execution_count": 12,
     "metadata": {},
     "output_type": "execute_result"
    }
   ],
   "source": [
    "# Preguntar si un valor está en la tupla\n",
    "20 in otra"
   ]
  },
  {
   "cell_type": "code",
   "execution_count": 13,
   "id": "8df48baa-33ad-4cb5-aed1-f292aa1040dc",
   "metadata": {
    "tags": []
   },
   "outputs": [
    {
     "name": "stdout",
     "output_type": "stream",
     "text": [
      "(1, 2, 3, 4, 5, 6)\n"
     ]
    }
   ],
   "source": [
    "# Sumar dos tuplas\n",
    "t1 = (1,2,3)\n",
    "t2 = (4,5,6)\n",
    "print(t1+t2)"
   ]
  },
  {
   "cell_type": "code",
   "execution_count": 16,
   "id": "e238c604-acfb-4a1a-b010-421d2428c2f7",
   "metadata": {
    "tags": []
   },
   "outputs": [
    {
     "name": "stdout",
     "output_type": "stream",
     "text": [
      "(10, 20, 30)\n"
     ]
    }
   ],
   "source": [
    "# Indexado. Acceder a los tres primeros valores\n",
    "t = (10,20,30,40,50,60,900)\n",
    "print (t[0:3:1])"
   ]
  },
  {
   "cell_type": "code",
   "execution_count": 20,
   "id": "77e70ea8-a7fc-4969-b157-ea2e76ed2f9a",
   "metadata": {
    "tags": []
   },
   "outputs": [
    {
     "name": "stdout",
     "output_type": "stream",
     "text": [
      "(900, 60, 50, 40, 30, 20, 10)\n"
     ]
    }
   ],
   "source": [
    "# Desde elfinal al principio\n",
    "print(t[-1::-1])"
   ]
  },
  {
   "cell_type": "code",
   "execution_count": 25,
   "id": "0e9c10bc-ec77-484c-9506-817ff89c2411",
   "metadata": {
    "tags": []
   },
   "outputs": [
    {
     "data": {
      "text/plain": [
       "(10, 20, 30, 40, 50, 60, 900, 1000)"
      ]
     },
     "execution_count": 25,
     "metadata": {},
     "output_type": "execute_result"
    }
   ],
   "source": [
    "# Añadir a una tupla, convirtiendo antes en lista\n",
    "t = (10,20,30,40,50,60,900)\n",
    "lista = list(t)\n",
    "lista.append(1000)\n",
    "t = tuple(lista)\n",
    "t"
   ]
  },
  {
   "cell_type": "code",
   "execution_count": null,
   "id": "4cfbae35-7dfc-4e7b-8991-cbaed0c2a9b1",
   "metadata": {},
   "outputs": [],
   "source": []
  }
 ],
 "metadata": {
  "kernelspec": {
   "display_name": "Python 3 (ipykernel)",
   "language": "python",
   "name": "python3"
  },
  "language_info": {
   "codemirror_mode": {
    "name": "ipython",
    "version": 3
   },
   "file_extension": ".py",
   "mimetype": "text/x-python",
   "name": "python",
   "nbconvert_exporter": "python",
   "pygments_lexer": "ipython3",
   "version": "3.8.17"
  }
 },
 "nbformat": 4,
 "nbformat_minor": 5
}
