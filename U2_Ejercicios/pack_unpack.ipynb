{
 "cells": [
  {
   "cell_type": "markdown",
   "id": "505f366f-c495-4683-8b79-33063a643d73",
   "metadata": {},
   "source": [
    "### Tuplas Tests"
   ]
  },
  {
   "cell_type": "code",
   "execution_count": 2,
   "id": "c041ab78-4a7d-4019-b008-b367e7d552f6",
   "metadata": {
    "tags": []
   },
   "outputs": [
    {
     "name": "stdout",
     "output_type": "stream",
     "text": [
      "<class 'tuple'>\n",
      "<class 'tuple'>\n"
     ]
    }
   ],
   "source": [
    "vegetales = ('patata', 'lechuga', 'tomate', 'pepino')\n",
    "numeros = 10,20,30,40\n",
    "\n",
    "print(type(vegetales))\n",
    "print(type(numeros))"
   ]
  },
  {
   "cell_type": "code",
   "execution_count": 3,
   "id": "e238c604-acfb-4a1a-b010-421d2428c2f7",
   "metadata": {
    "tags": []
   },
   "outputs": [],
   "source": [
    "# Desempaquetado\n",
    "x,y,z,w=vegetales"
   ]
  },
  {
   "cell_type": "code",
   "execution_count": 4,
   "id": "4cfbae35-7dfc-4e7b-8991-cbaed0c2a9b1",
   "metadata": {},
   "outputs": [
    {
     "ename": "ValueError",
     "evalue": "too many values to unpack (expected 3)",
     "output_type": "error",
     "traceback": [
      "\u001b[1;31m---------------------------------------------------------------------------\u001b[0m",
      "\u001b[1;31mValueError\u001b[0m                                Traceback (most recent call last)",
      "Cell \u001b[1;32mIn[4], line 2\u001b[0m\n\u001b[0;32m      1\u001b[0m \u001b[38;5;66;03m# Desempaquetado con menos variables que elementos\u001b[39;00m\n\u001b[1;32m----> 2\u001b[0m x,y,z \u001b[38;5;241m=\u001b[39m vegetales\n",
      "\u001b[1;31mValueError\u001b[0m: too many values to unpack (expected 3)"
     ]
    }
   ],
   "source": [
    "# Desempaquetado con menos variables que elementos\n",
    "x,y,z = vegetales"
   ]
  },
  {
   "cell_type": "code",
   "execution_count": 5,
   "id": "c2b8aa32-dac7-4f45-8bdf-d0fce0de0833",
   "metadata": {
    "tags": []
   },
   "outputs": [
    {
     "name": "stdout",
     "output_type": "stream",
     "text": [
      "patata\n",
      "lechuga\n"
     ]
    }
   ],
   "source": [
    "# Desempaquetando\n",
    "x,_,_,z=vegetales\n",
    "print(x)\n",
    "print(y)"
   ]
  },
  {
   "cell_type": "code",
   "execution_count": 8,
   "id": "a4e3249e-4693-4c04-8bbc-393779469d7d",
   "metadata": {
    "tags": []
   },
   "outputs": [
    {
     "name": "stdout",
     "output_type": "stream",
     "text": [
      "patata\n",
      "lechuga\n",
      "['tomate', 'pepino']\n"
     ]
    }
   ],
   "source": [
    "# Empaquetar\n",
    "vegetales = ('patata', 'lechuga', 'tomate', 'pepino')\n",
    "x,y,*resto = vegetales\n",
    "print(x)\n",
    "print(y)\n",
    "print(resto)"
   ]
  },
  {
   "cell_type": "code",
   "execution_count": null,
   "id": "a28147a4-3050-44db-8d79-42f0b0c1f249",
   "metadata": {},
   "outputs": [],
   "source": []
  }
 ],
 "metadata": {
  "kernelspec": {
   "display_name": "Python 3 (ipykernel)",
   "language": "python",
   "name": "python3"
  },
  "language_info": {
   "codemirror_mode": {
    "name": "ipython",
    "version": 3
   },
   "file_extension": ".py",
   "mimetype": "text/x-python",
   "name": "python",
   "nbconvert_exporter": "python",
   "pygments_lexer": "ipython3",
   "version": "3.8.17"
  }
 },
 "nbformat": 4,
 "nbformat_minor": 5
}
