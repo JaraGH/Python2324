{
 "cells": [
  {
   "cell_type": "code",
   "execution_count": 15,
   "id": "22ef8101-1a54-45cd-8d74-65cb1dc9db85",
   "metadata": {
    "tags": []
   },
   "outputs": [
    {
     "name": "stdout",
     "output_type": "stream",
     "text": [
      "Fecha y hora actual: 2023-11-22 18:56:27.239021\n",
      "Año actual: 2023\n",
      "Año actual: 11\n",
      "Día actual: 22\n",
      "Semana actual: 47\n",
      "Día de la semana actual: 3\n",
      "Día del año: 326\n",
      "Día del mes: 22\n",
      "Día de la semana: Wednesday\n"
     ]
    }
   ],
   "source": [
    "# 1. Escribe un programa Python que muestre en pantalla:\n",
    "# Fecha y hora actual\n",
    "# Año actual\n",
    "# Mes actual\n",
    "# Día actual\n",
    "# Número de la semana actual\n",
    "# Día de la semana actual\n",
    "# Día del año\n",
    "# Día del mes\n",
    "# Día de la semana (nombre)\n",
    "\n",
    "from datetime import date, time, datetime\n",
    "\n",
    "now = datetime.now()\n",
    "print(f'Fecha y hora actual: {now}')\n",
    "print(f'Año actual: {now.year}')\n",
    "print(f'Año actual: {now.month}')\n",
    "print(f'Día actual: {now.day}')\n",
    "print(f'Semana actual: {date.today().strftime(\"%W\")}')\n",
    "print(f'Día de la semana actual: {date.today().strftime(\"%w\")}')\n",
    "print(f'Día del año: {date.today().strftime(\"%j\")}')\n",
    "print(f'Día del mes: {date.today().strftime(\"%d\")}')\n",
    "print(f'Día de la semana: {date.today().strftime(\"%A\")}')"
   ]
  },
  {
   "cell_type": "code",
   "execution_count": 16,
   "id": "50a97e11-fc1f-4240-9b73-887a03abee12",
   "metadata": {
    "tags": []
   },
   "outputs": [
    {
     "name": "stdout",
     "output_type": "stream",
     "text": [
      "2000 es bisiesto? True\n",
      "2001 es bisiesto? False\n",
      "2002 es bisiesto? False\n",
      "2003 es bisiesto? False\n",
      "2004 es bisiesto? True\n",
      "2005 es bisiesto? False\n",
      "2006 es bisiesto? False\n",
      "2007 es bisiesto? False\n",
      "2008 es bisiesto? True\n",
      "2009 es bisiesto? False\n"
     ]
    }
   ],
   "source": [
    "# 2. Determinar usando Python si un año es bisiesto\n",
    "\n",
    "def isLeapYear(anio):\n",
    "    return (anio % 4 == 0 and anio % 100 != 0) or anio % 400 == 0\n",
    "\n",
    "for a in range(2000, 2010):\n",
    "    print(f'{a} es bisiesto? {isLeapYear(a)}')\n",
    "\n"
   ]
  },
  {
   "cell_type": "code",
   "execution_count": 19,
   "id": "3365d51c-114c-4bf7-b249-332b978b3fb0",
   "metadata": {
    "tags": []
   },
   "outputs": [
    {
     "name": "stdout",
     "output_type": "stream",
     "text": [
      "2024-01-01 14:43:00\n"
     ]
    }
   ],
   "source": [
    "# 3. Diseña un programa Python que convierta una cadena de caracteres a datetime.\n",
    "# Jan 1 2024 2:43PM\n",
    "date_string = 'Jan 1 2024 2:43PM'\n",
    "date_format = '%b %d %Y %I:%M%p'\n",
    "fecha = datetime.strptime(date_string, date_format)\n",
    "print(fecha)\n"
   ]
  },
  {
   "cell_type": "code",
   "execution_count": 23,
   "id": "b7d36588-cca8-424d-9469-a39325206120",
   "metadata": {
    "tags": []
   },
   "outputs": [
    {
     "name": "stdout",
     "output_type": "stream",
     "text": [
      "2023-11-17 19:10:38.025525\n"
     ]
    }
   ],
   "source": [
    "# 4. Restar 5 días a la fecha actual mediante un script de Python.\n",
    "from datetime import timedelta\n",
    "\n",
    "now = datetime.now()\n",
    "five_days = timedelta(days= 5)\n",
    "fecha_menos_five_days = now - five_days\n",
    "print (fecha_menos_five_days)\n"
   ]
  },
  {
   "cell_type": "code",
   "execution_count": 25,
   "id": "429c8a3f-b80e-4e99-a02b-0046e3be1a55",
   "metadata": {
    "tags": []
   },
   "outputs": [
    {
     "name": "stdout",
     "output_type": "stream",
     "text": [
      "Hoy: 2023-11-22\n",
      "Ayer: 2023-11-21\n",
      "Mañana: 2023-11-23\n"
     ]
    }
   ],
   "source": [
    "# 5. Escribe un programa Python que muestre las fechas de ayer, hoy y mañana.\n",
    "today = date.today()\n",
    "one_day = timedelta(days=1)\n",
    "yesterday = today - one_day\n",
    "tomorrow = today + one_day\n",
    "print(f'Hoy: {today}')\n",
    "print(f'Ayer: {yesterday}')\n",
    "print(f'Mañana: {tomorrow}')"
   ]
  },
  {
   "cell_type": "code",
   "execution_count": 40,
   "id": "e9789d31-bf9c-4d58-aadb-13d0afdf34f7",
   "metadata": {
    "tags": []
   },
   "outputs": [
    {
     "name": "stdout",
     "output_type": "stream",
     "text": [
      "2023-11-23\n",
      "2023-11-24\n",
      "2023-11-25\n",
      "2023-11-26\n",
      "2023-11-27\n",
      "2023-11-28\n",
      "2023-11-29\n"
     ]
    }
   ],
   "source": [
    "# 6. Escribe un programa Python que muestre las N fechas siguientes al día de hoy.\n",
    "from datetime import date, time, datetime, timedelta\n",
    "def generarFechas(n):\n",
    "    one_day = timedelta(days=1)\n",
    "    mi_date = date.today()\n",
    "    for x in range(1,n+1):\n",
    "        mi_date = mi_date + one_day\n",
    "        yield mi_date\n",
    "\n",
    "for x in generarFechas(7):\n",
    "    print(x)\n"
   ]
  },
  {
   "cell_type": "code",
   "execution_count": 49,
   "id": "46847747-fed1-4fa4-b3fa-84a6beea66e0",
   "metadata": {
    "tags": []
   },
   "outputs": [
    {
     "name": "stdout",
     "output_type": "stream",
     "text": [
      "2024-01-07\n",
      "2024-01-14\n",
      "2024-01-21\n",
      "2024-01-28\n",
      "2024-02-04\n",
      "2024-02-11\n",
      "2024-02-18\n",
      "2024-02-25\n",
      "2024-03-03\n",
      "2024-03-10\n",
      "2024-03-17\n",
      "2024-03-24\n",
      "2024-03-31\n",
      "2024-04-07\n",
      "2024-04-14\n",
      "2024-04-21\n",
      "2024-04-28\n",
      "2024-05-05\n",
      "2024-05-12\n",
      "2024-05-19\n",
      "2024-05-26\n",
      "2024-06-02\n",
      "2024-06-09\n",
      "2024-06-16\n",
      "2024-06-23\n",
      "2024-06-30\n",
      "2024-07-07\n",
      "2024-07-14\n",
      "2024-07-21\n",
      "2024-07-28\n",
      "2024-08-04\n",
      "2024-08-11\n",
      "2024-08-18\n",
      "2024-08-25\n",
      "2024-09-01\n",
      "2024-09-08\n",
      "2024-09-15\n",
      "2024-09-22\n",
      "2024-09-29\n",
      "2024-10-06\n",
      "2024-10-13\n",
      "2024-10-20\n",
      "2024-10-27\n",
      "2024-11-03\n",
      "2024-11-10\n",
      "2024-11-17\n",
      "2024-11-24\n",
      "2024-12-01\n",
      "2024-12-08\n",
      "2024-12-15\n",
      "2024-12-22\n",
      "2024-12-29\n"
     ]
    }
   ],
   "source": [
    "# 7. Mostrar todos los domingos de un determinado año\n",
    "from datetime import date, time, datetime, timedelta\n",
    "\n",
    "def all_sundays(year):\n",
    "    \n",
    "    my_date = date(2024, 1, 1)\n",
    "    dif_days = 6 - my_date.weekday()\n",
    "    periodo = timedelta(days=dif_days)\n",
    "    first_sun = my_date + periodo\n",
    "    my_date = first_sun\n",
    "    while my_date.year==year:\n",
    "        yield my_date\n",
    "        my_date+=timedelta(days=7)\n",
    "    \n",
    "\n",
    "for sun in all_sundays(2024):\n",
    "    print(sun)\n",
    "    \n",
    "    \n"
   ]
  },
  {
   "cell_type": "code",
   "execution_count": 50,
   "id": "4da28b1f-02a0-405e-98e7-d862f63a3c31",
   "metadata": {
    "tags": []
   },
   "outputs": [
    {
     "name": "stdout",
     "output_type": "stream",
     "text": [
      "2023-12-22 20:06:33.094087\n"
     ]
    }
   ],
   "source": [
    "# 8. Crear un script que sume un mes a la fecha actual.\n",
    "from datetime import date, time, datetime, timedelta\n",
    "\n",
    "now = datetime.now()\n",
    "one_month=timedelta(30)\n",
    "now_plus_month = now + one_month\n",
    "print(now_plus_month)"
   ]
  },
  {
   "cell_type": "code",
   "execution_count": 2,
   "id": "19f30788-61f3-4e42-ab9e-7401af09815e",
   "metadata": {
    "tags": []
   },
   "outputs": [
    {
     "name": "stdout",
     "output_type": "stream",
     "text": [
      "Error la dividor por cero\n"
     ]
    }
   ],
   "source": [
    "# 9. Gestión división por cero\n",
    "dividendo = 10\n",
    "divisor = 0\n",
    "\n",
    "try:\n",
    "    r = dividendo / divisor\n",
    "except:\n",
    "    print(\"Error la dividor por cero\")"
   ]
  },
  {
   "cell_type": "code",
   "execution_count": 6,
   "id": "2ec1c730-e49d-4094-bdff-583ab9c451bd",
   "metadata": {
    "tags": []
   },
   "outputs": [
    {
     "name": "stdin",
     "output_type": "stream",
     "text": [
      "Teclea un entero asdf\n"
     ]
    },
    {
     "name": "stdout",
     "output_type": "stream",
     "text": [
      "Error en la entrada\n"
     ]
    }
   ],
   "source": [
    "# 10. Diseña una aplicación Python que solicite al usuario una entrada y\n",
    "# genere una excepción si la entrada no es numérica.\n",
    "\n",
    "def get_integer():\n",
    "    try:\n",
    "        entrada = int(input('Teclea un entero'))\n",
    "        return entrada\n",
    "    except ValueError:\n",
    "        print(\"Error en la entrada\")\n",
    "\n",
    "        \n",
    "\n",
    "a = get_integer()"
   ]
  },
  {
   "cell_type": "code",
   "execution_count": 11,
   "id": "a3f8ef54-3f27-46cf-b345-a5972346a386",
   "metadata": {
    "tags": []
   },
   "outputs": [
    {
     "name": "stdout",
     "output_type": "stream",
     "text": [
      "Error, el archivo no existe\n"
     ]
    }
   ],
   "source": [
    "# 11. Diseña una aplicación Python que abra un archivo de texto y gestione la excepción FileNotFoundError si el archivo no existe.\n",
    "\n",
    "def open_file(filename):\n",
    "    try:\n",
    "        file = open(filename, 'r')\n",
    "        contents = file.read()\n",
    "        print('Contenido:\\n', contents)\n",
    "        file.close()\n",
    "    except FileNotFoundError:\n",
    "        print('Error, el archivo no existe')\n",
    "\n",
    "open_file('text333o.txt')\n",
    "              "
   ]
  },
  {
   "cell_type": "code",
   "execution_count": 53,
   "id": "7be8780a-c26c-4220-bf02-1411de2b94d1",
   "metadata": {},
   "outputs": [
    {
     "name": "stdout",
     "output_type": "stream",
     "text": [
      "1\n",
      "2\n",
      "3\n",
      "40\n",
      "50\n",
      "60\n",
      "100\n",
      "200\n",
      "Error, índice fuera de rango\n"
     ]
    }
   ],
   "source": [
    "# 12. Escribe un programa Python que acceda a una lista y gestione la excepción “IndexError” si se utiliza un índice fuera de rango.\n",
    "lista = [1,2,3,40,50,60,100,200]\n",
    "\n",
    "try:\n",
    "    \n",
    "    for x in range(0, len(lista)+1):\n",
    "        print(lista[x])\n",
    "        \n",
    "    #acceder a una posición inexistente\n",
    "    print(lista[len(lista)])\n",
    "    \n",
    "except IndexError:\n",
    "    print('Error, índice fuera de rango')\n"
   ]
  },
  {
   "cell_type": "code",
   "execution_count": null,
   "id": "706e2a2b-ed7f-4958-93b2-74c560633a3a",
   "metadata": {},
   "outputs": [],
   "source": []
  }
 ],
 "metadata": {
  "kernelspec": {
   "display_name": "Python 3 (ipykernel)",
   "language": "python",
   "name": "python3"
  },
  "language_info": {
   "codemirror_mode": {
    "name": "ipython",
    "version": 3
   },
   "file_extension": ".py",
   "mimetype": "text/x-python",
   "name": "python",
   "nbconvert_exporter": "python",
   "pygments_lexer": "ipython3",
   "version": "3.11.4"
  }
 },
 "nbformat": 4,
 "nbformat_minor": 5
}
