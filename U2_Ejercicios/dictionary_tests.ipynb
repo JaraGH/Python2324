{
 "cells": [
  {
   "cell_type": "markdown",
   "id": "cf391ccd-3754-48c9-b60a-b96c6fe49124",
   "metadata": {
    "tags": []
   },
   "source": [
    "### Dictionary Tests"
   ]
  },
  {
   "cell_type": "code",
   "execution_count": 1,
   "id": "bdf0829e-8d9d-411e-9047-2b1edc6ace93",
   "metadata": {
    "tags": []
   },
   "outputs": [
    {
     "data": {
      "text/plain": [
       "{'nombre': 'Magic Johnson',\n",
       " 'equipos': ['Lakers', 'Michigan State'],\n",
       " 'edad': 64,\n",
       " 'numero': 32}"
      ]
     },
     "execution_count": 1,
     "metadata": {},
     "output_type": "execute_result"
    }
   ],
   "source": [
    "jugador = {\n",
    "    \"nombre\": \"Magic Johnson\",\n",
    "    \"equipos\": [\"Lakers\", \"Michigan State\"],\n",
    "    \"edad\": 64,\n",
    "    \"numero\": 32,\n",
    "}\n",
    "\n",
    "jugador"
   ]
  },
  {
   "cell_type": "code",
   "execution_count": 2,
   "id": "421aee01-b5f7-408f-aba0-91de1966e354",
   "metadata": {
    "tags": []
   },
   "outputs": [
    {
     "name": "stdout",
     "output_type": "stream",
     "text": [
      "4\n"
     ]
    }
   ],
   "source": [
    "# len retorna el nº de keysnº de keys\n",
    "print (len(jugador))"
   ]
  },
  {
   "cell_type": "code",
   "execution_count": 3,
   "id": "32cc7007-0423-4a72-9ec7-6328603bf4ab",
   "metadata": {
    "tags": []
   },
   "outputs": [
    {
     "name": "stdout",
     "output_type": "stream",
     "text": [
      "64\n",
      "64\n",
      "['Lakers', 'Michigan State']\n"
     ]
    }
   ],
   "source": [
    "## Acceso con key\n",
    "print (jugador[\"edad\"])\n",
    "print (jugador.get(\"edad\"))\n",
    "lista_equipos = jugador.get(\"equipos\")\n",
    "print(lista_equipos)"
   ]
  },
  {
   "cell_type": "code",
   "execution_count": 11,
   "id": "f741b72e-37a9-4d20-b9d5-22da5fdccc72",
   "metadata": {
    "tags": []
   },
   "outputs": [
    {
     "name": "stdout",
     "output_type": "stream",
     "text": [
      "nombre --> Magic Johnson\n",
      "equipos --> ['Lakers', 'Michigan State']\n",
      "edad --> 64\n",
      "numero --> 32\n"
     ]
    }
   ],
   "source": [
    "# Recorrer con las keys\n",
    "jugador = {\n",
    "    \"nombre\": \"Magic Johnson\",\n",
    "    \"equipos\": [\"Lakers\", \"Michigan State\"],\n",
    "    \"edad\": 64,\n",
    "    \"numero\": 32,\n",
    "}\n",
    "\n",
    "for k in jugador:\n",
    "    print(f'{k} --> {jugador[k]}')"
   ]
  },
  {
   "cell_type": "code",
   "execution_count": 12,
   "id": "9a9f6e2e-eeda-4ae0-b41c-e901af1c2a83",
   "metadata": {
    "tags": []
   },
   "outputs": [
    {
     "name": "stdout",
     "output_type": "stream",
     "text": [
      "nombre --> Magic Johnson\n",
      "equipos --> ['Lakers', 'Michigan State']\n",
      "edad --> 64\n",
      "numero --> 32\n"
     ]
    }
   ],
   "source": [
    "# Mostrar parejas key-value\n",
    "for k,v in jugador.items():\n",
    "    print(f'{k} --> {v}')"
   ]
  },
  {
   "cell_type": "code",
   "execution_count": 4,
   "id": "729f63e4-1cad-45ab-aec0-096e38917516",
   "metadata": {
    "tags": []
   },
   "outputs": [
    {
     "name": "stdout",
     "output_type": "stream",
     "text": [
      "{'nombre': 'Magic Johnson', 'equipos': ['Lakers', 'Michigan State'], 'edad': 64, 'numero': 32, 'altura': 1.96}\n"
     ]
    }
   ],
   "source": [
    "# Añadir datos al diccionario\n",
    "jugador[\"altura\"]=  1.96\n",
    "print(jugador)"
   ]
  },
  {
   "cell_type": "code",
   "execution_count": 5,
   "id": "81f3377c-024f-4571-a532-cb2c1deb6106",
   "metadata": {
    "tags": []
   },
   "outputs": [
    {
     "data": {
      "text/plain": [
       "{'nombre': 'Magic Johnson',\n",
       " 'equipos': ['Lakers', 'Michigan State'],\n",
       " 'edad': 64,\n",
       " 'numero': 32,\n",
       " 'altura': 2.06}"
      ]
     },
     "execution_count": 5,
     "metadata": {},
     "output_type": "execute_result"
    }
   ],
   "source": [
    "# Actualizar un valor\n",
    "jugador.update({\"altura\": 2.06})\n",
    "jugador"
   ]
  },
  {
   "cell_type": "code",
   "execution_count": 6,
   "id": "ec5ea942-b960-4b0b-ab98-8e3b45f7a9c6",
   "metadata": {
    "tags": []
   },
   "outputs": [
    {
     "data": {
      "text/plain": [
       "{'zafra': 13400, 'Badajoz': 135000, 'Feria': 1073}"
      ]
     },
     "execution_count": 6,
     "metadata": {},
     "output_type": "execute_result"
    }
   ],
   "source": [
    "# Puede construirse un diccionario a partir de una lista de tuplas de dos elementos\n",
    "lista = [('zafra', 13400), ('Badajoz', 135000), ('Feria', 1073)]\n",
    "pueblos = dict(lista)\n",
    "pueblos"
   ]
  },
  {
   "cell_type": "code",
   "execution_count": 7,
   "id": "6a003353-9709-4184-9ac2-d2e06271ea17",
   "metadata": {
    "tags": []
   },
   "outputs": [
    {
     "data": {
      "text/plain": [
       "['nombre', 'equipos', 'edad', 'numero', 'altura']"
      ]
     },
     "execution_count": 7,
     "metadata": {},
     "output_type": "execute_result"
    }
   ],
   "source": [
    "# Obtener las keys en una lista\n",
    "keys = list(jugador.keys())\n",
    "keys"
   ]
  },
  {
   "cell_type": "code",
   "execution_count": 30,
   "id": "29ceee14-83cc-4afb-b49d-1e8c8455b298",
   "metadata": {
    "tags": []
   },
   "outputs": [],
   "source": [
    "# Diccionario de diccionarios\n",
    "jugador1 = {\n",
    "    \"nombre\": \"Magic Johnson\",\n",
    "    \"equipos\": [\"Lakers\", \"Michigan State\"],\n",
    "    \"edad\": 64,\n",
    "    \"numero\": 32\n",
    "}\n",
    "jugador2 = {\n",
    "    \"nombre\": \"Michael Jordan\",\n",
    "    \"equipos\": [\"Bulls\", \"Bullets\"],\n",
    "    \"edad\": 60,\n",
    "    \"numero\": 23\n",
    "}\n"
   ]
  },
  {
   "cell_type": "code",
   "execution_count": 31,
   "id": "e4cba591-6698-4ea3-906d-5409eb1c01be",
   "metadata": {
    "tags": []
   },
   "outputs": [
    {
     "name": "stdout",
     "output_type": "stream",
     "text": [
      "{'nombre': 'Magic Johnson', 'equipos': ['Lakers', 'Michigan State'], 'edad': 64, 'numero': 32}\n",
      "{'nombre': 'Michael Jordan', 'equipos': ['Bulls', 'Bullets'], 'edad': 60, 'numero': 23}\n"
     ]
    }
   ],
   "source": [
    "todos[\"jugador1\"] = jugador1\n",
    "todos[\"jugador2\"] = jugador2\n",
    "\n",
    "for jugador in todos:\n",
    "    print (todos.get(jugador))\n",
    "\n",
    "\n",
    "\n"
   ]
  },
  {
   "cell_type": "code",
   "execution_count": 3,
   "id": "47e3a876-b9d3-4695-b964-387e562c4cf9",
   "metadata": {},
   "outputs": [
    {
     "name": "stdout",
     "output_type": "stream",
     "text": [
      "{\n",
      "    \"nombre\": \"Magic Johnson\",\n",
      "    \"equipos\": [\n",
      "        \"Lakers\",\n",
      "        \"Michigan State\"\n",
      "    ],\n",
      "    \"edad\": 64,\n",
      "    \"numero\": 32\n",
      "}\n"
     ]
    }
   ],
   "source": [
    "import json\n",
    "jugador = {\n",
    "    \"nombre\": \"Magic Johnson\",\n",
    "    \"equipos\": [\"Lakers\", \"Michigan State\"],\n",
    "    \"edad\": 64,\n",
    "    \"numero\": 32,\n",
    "}\n",
    "jug_json = json.dumps(jugador, indent=4)\n",
    "print(jug_json)"
   ]
  },
  {
   "cell_type": "code",
   "execution_count": null,
   "id": "0d08fbde-a142-4c61-91bd-a358222f912f",
   "metadata": {},
   "outputs": [],
   "source": []
  }
 ],
 "metadata": {
  "kernelspec": {
   "display_name": "Python 3 (ipykernel)",
   "language": "python",
   "name": "python3"
  },
  "language_info": {
   "codemirror_mode": {
    "name": "ipython",
    "version": 3
   },
   "file_extension": ".py",
   "mimetype": "text/x-python",
   "name": "python",
   "nbconvert_exporter": "python",
   "pygments_lexer": "ipython3",
   "version": "3.8.17"
  }
 },
 "nbformat": 4,
 "nbformat_minor": 5
}
