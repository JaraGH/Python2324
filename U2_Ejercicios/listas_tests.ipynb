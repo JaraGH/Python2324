{
 "cells": [
  {
   "cell_type": "markdown",
   "id": "0c5968b9-8c79-4bc3-afcf-847f5901e26d",
   "metadata": {
    "tags": []
   },
   "source": [
    "### Test Listas"
   ]
  },
  {
   "cell_type": "code",
   "execution_count": 1,
   "id": "abfa79f0-8cb3-43c3-be36-4dfcaca2a9d5",
   "metadata": {
    "tags": []
   },
   "outputs": [],
   "source": [
    "lista = [100, 200, 300, 250, 1000, 2000]"
   ]
  },
  {
   "cell_type": "code",
   "execution_count": 3,
   "id": "af2a429d-e951-47cd-b6f1-d0ad7e3437b1",
   "metadata": {
    "tags": []
   },
   "outputs": [
    {
     "name": "stdout",
     "output_type": "stream",
     "text": [
      "Mayor valor: 2000\n",
      "Menor valor: 100\n",
      "Suma: 3850\n",
      "Nº elementos: 6\n"
     ]
    }
   ],
   "source": [
    "mayor = max(lista)\n",
    "menor = min(lista)\n",
    "suma = sum(lista)\n",
    "numero_elementos = len(lista)\n",
    "print(f'Mayor valor: {mayor}')\n",
    "print(f'Menor valor: {menor}')\n",
    "print(f'Suma: {suma}')\n",
    "print(f'Nº elementos: {numero_elementos}')"
   ]
  },
  {
   "cell_type": "code",
   "execution_count": 5,
   "id": "9ff171c1-2069-4ae4-87e2-81a3bb8b8f0a",
   "metadata": {},
   "outputs": [
    {
     "name": "stdout",
     "output_type": "stream",
     "text": [
      "H-o-l-a- -d-e-s-d-e- -P-y-t-h-o-n-"
     ]
    }
   ],
   "source": [
    "# convertir cadena en lista\n",
    "cadena = \"Hola desde Python\"\n",
    "lista_cad = list(cadena)\n",
    "for _ in lista_cad:\n",
    "    print(_ , end=\"-\")"
   ]
  },
  {
   "cell_type": "code",
   "execution_count": 7,
   "id": "99b663d6-3564-4873-8d4a-0e847e616f87",
   "metadata": {
    "tags": []
   },
   "outputs": [
    {
     "name": "stdout",
     "output_type": "stream",
     "text": [
      "[9999, 200, 300, 250, 1000, 2000]\n",
      "[9999, 200, 300, 250, 1000, 2000]\n"
     ]
    }
   ],
   "source": [
    "# Copiar listas\n",
    "lista1 = [100, 200, 300, 250, 1000, 2000]\n",
    "lista2 = lista1\n",
    "\n",
    "# comprobamos que la modificación afecta a ambas listas\n",
    "# son el mismo objeto\n",
    "lista1[0]=9999\n",
    "\n",
    "print(lista1)\n",
    "print(lista2)"
   ]
  },
  {
   "cell_type": "code",
   "execution_count": 8,
   "id": "e4e6bff7-2915-446b-a5a3-e2ff0aeac684",
   "metadata": {
    "tags": []
   },
   "outputs": [
    {
     "data": {
      "text/plain": [
       "[100, 200, 300, 250, 1000, 2000, 'Ávila', 'Badajoz', 'Cuenca']"
      ]
     },
     "execution_count": 8,
     "metadata": {},
     "output_type": "execute_result"
    }
   ],
   "source": [
    "# Unir dos listas\n",
    "lista = [100, 200, 300, 250, 1000, 2000]\n",
    "ciudades = ['Ávila', 'Badajoz', 'Cuenca']\n",
    "\n",
    "lista.extend(ciudades)\n",
    "lista"
   ]
  },
  {
   "cell_type": "code",
   "execution_count": 9,
   "id": "5873e890-c3f7-471e-b921-88e838873bbd",
   "metadata": {
    "tags": []
   },
   "outputs": [
    {
     "data": {
      "text/plain": [
       "[100, 200, 300, 250, 1000, 2000, 'Ávila', 'Badajoz', 'Cuenca']"
      ]
     },
     "execution_count": 9,
     "metadata": {},
     "output_type": "execute_result"
    }
   ],
   "source": [
    "# Unir añadiendo uno a uno\n",
    "lista = [100, 200, 300, 250, 1000, 2000]\n",
    "ciudades = ['Ávila', 'Badajoz', 'Cuenca']\n",
    "for _ in ciudades:\n",
    "    lista.append(_)\n",
    "lista"
   ]
  },
  {
   "cell_type": "code",
   "execution_count": 11,
   "id": "8faaa42a-bef2-4f2e-b130-d94f55dabe4a",
   "metadata": {
    "tags": []
   },
   "outputs": [],
   "source": [
    "# Mostrar lista\n",
    "lista = [100, 200, 300, 250, 1000, 2000]"
   ]
  },
  {
   "cell_type": "code",
   "execution_count": 13,
   "id": "8d101b7d-7d69-421a-93ce-88afb1ea53f4",
   "metadata": {
    "tags": []
   },
   "outputs": [
    {
     "name": "stdout",
     "output_type": "stream",
     "text": [
      "[100, 200, 300, 250, 1000, 2000]\n"
     ]
    }
   ],
   "source": [
    "# Del tirón\n",
    "print(lista)"
   ]
  },
  {
   "cell_type": "code",
   "execution_count": 14,
   "id": "c737beeb-2d1f-42d4-9351-e1cf94535fdd",
   "metadata": {
    "tags": []
   },
   "outputs": [
    {
     "name": "stdout",
     "output_type": "stream",
     "text": [
      "100 200 300 250 1000 2000 "
     ]
    }
   ],
   "source": [
    "# UNo a uno\n",
    "for x in lista:\n",
    "    print(x, end = \" \")"
   ]
  },
  {
   "cell_type": "code",
   "execution_count": 18,
   "id": "a5f75950-30e8-4880-90ff-204471c8b108",
   "metadata": {
    "tags": []
   },
   "outputs": [
    {
     "name": "stdout",
     "output_type": "stream",
     "text": [
      "100, 200, 300, 250, 1000, 2000\n"
     ]
    }
   ],
   "source": [
    "# Convirtiendo la lista en una cadena y haciendo slicing\n",
    "lista = [100, 200, 300, 250, 1000, 2000]\n",
    "print( str(lista)[1:-1])"
   ]
  },
  {
   "cell_type": "code",
   "execution_count": 1,
   "id": "a0bbd805-c619-431e-87b4-c995d8c02e81",
   "metadata": {},
   "outputs": [
    {
     "name": "stdout",
     "output_type": "stream",
     "text": [
      "{'red': '#FF0000', 'green': '#008000', 'blue': '#0000FF'}\n"
     ]
    }
   ],
   "source": [
    "keys = ['red', 'green', 'blue']\n",
    "values = ['#FF0000','#008000', '#0000FF']\n",
    "color_dictionary = dict(zip(keys, values))\n",
    "print(color_dictionary)"
   ]
  },
  {
   "cell_type": "code",
   "execution_count": null,
   "id": "62ceb750",
   "metadata": {},
   "outputs": [],
   "source": []
  }
 ],
 "metadata": {
  "kernelspec": {
   "display_name": "Python 3 (ipykernel)",
   "language": "python",
   "name": "python3"
  },
  "language_info": {
   "codemirror_mode": {
    "name": "ipython",
    "version": 3
   },
   "file_extension": ".py",
   "mimetype": "text/x-python",
   "name": "python",
   "nbconvert_exporter": "python",
   "pygments_lexer": "ipython3",
   "version": "3.8.17"
  }
 },
 "nbformat": 4,
 "nbformat_minor": 5
}
