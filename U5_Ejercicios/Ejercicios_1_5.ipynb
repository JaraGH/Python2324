{
 "cells": [
  {
   "cell_type": "code",
   "execution_count": 2,
   "id": "19f30788-61f3-4e42-ab9e-7401af09815e",
   "metadata": {
    "tags": []
   },
   "outputs": [
    {
     "name": "stdout",
     "output_type": "stream",
     "text": [
      "Error la dividor por cero\n"
     ]
    }
   ],
   "source": [
    "# 1. Gestión división por cero\n",
    "dividendo = 10\n",
    "divisor = 0\n",
    "\n",
    "try:\n",
    "    r = dividendo / divisor\n",
    "except:\n",
    "    print(\"Error la dividor por cero\")"
   ]
  },
  {
   "cell_type": "code",
   "execution_count": 6,
   "id": "2ec1c730-e49d-4094-bdff-583ab9c451bd",
   "metadata": {
    "tags": []
   },
   "outputs": [
    {
     "name": "stdin",
     "output_type": "stream",
     "text": [
      "Teclea un entero asdf\n"
     ]
    },
    {
     "name": "stdout",
     "output_type": "stream",
     "text": [
      "Error en la entrada\n"
     ]
    }
   ],
   "source": [
    "# 2. Diseña una aplicación Python que solicite al usuario una entrada y\n",
    "# genere una excepción si la entrada no es numérica.\n",
    "\n",
    "def get_integer():\n",
    "    try:\n",
    "        entrada = int(input('Teclea un entero'))\n",
    "        return entrada\n",
    "    except ValueError:\n",
    "        print(\"Error en la entrada\")\n",
    "\n",
    "        \n",
    "\n",
    "a = get_integer()"
   ]
  },
  {
   "cell_type": "code",
   "execution_count": 11,
   "id": "a3f8ef54-3f27-46cf-b345-a5972346a386",
   "metadata": {
    "tags": []
   },
   "outputs": [
    {
     "name": "stdout",
     "output_type": "stream",
     "text": [
      "Error, el archivo no existe\n"
     ]
    }
   ],
   "source": [
    "# 3. Diseña una aplicación Python que abra un archivo de texto y gestione la excepción FileNotFoundError si el archivo no existe.\n",
    "\n",
    "def open_file(filename):\n",
    "    try:\n",
    "        file = open(filename, 'r')\n",
    "        contents = file.read()\n",
    "        print('Contenido:\\n', contents)\n",
    "        file.close()\n",
    "    except FileNotFoundError:\n",
    "        print('Error, el archivo no existe')\n",
    "\n",
    "open_file('text333o.txt')\n",
    "              "
   ]
  },
  {
   "cell_type": "code",
   "execution_count": 1,
   "id": "7be8780a-c26c-4220-bf02-1411de2b94d1",
   "metadata": {},
   "outputs": [
    {
     "name": "stdout",
     "output_type": "stream",
     "text": [
      "1\n",
      "2\n",
      "3\n",
      "40\n",
      "50\n",
      "60\n",
      "100\n",
      "200\n",
      "Error, índice fuera de rango\n"
     ]
    }
   ],
   "source": [
    "# 4. Escribe un programa Python que acceda a una lista y gestione la excepción “IndexError” si se utiliza un índice fuera de rango.\n",
    "lista = [1,2,3,40,50,60,100,200]\n",
    "\n",
    "try:\n",
    "    \n",
    "    for x in range(0, len(lista)+1):\n",
    "        print(lista[x])\n",
    "        \n",
    "    //acceder a una posición inexistente\n",
    "    print(lista[len(lista)])\n",
    "    \n",
    "except IndexError:\n",
    "    print('Error, índice fuera de rango')\n"
   ]
  },
  {
   "cell_type": "code",
   "execution_count": null,
   "id": "706e2a2b-ed7f-4958-93b2-74c560633a3a",
   "metadata": {},
   "outputs": [],
   "source": []
  }
 ],
 "metadata": {
  "kernelspec": {
   "display_name": "Python 3 (ipykernel)",
   "language": "python",
   "name": "python3"
  },
  "language_info": {
   "codemirror_mode": {
    "name": "ipython",
    "version": 3
   },
   "file_extension": ".py",
   "mimetype": "text/x-python",
   "name": "python",
   "nbconvert_exporter": "python",
   "pygments_lexer": "ipython3",
   "version": "3.11.4"
  }
 },
 "nbformat": 4,
 "nbformat_minor": 5
}
