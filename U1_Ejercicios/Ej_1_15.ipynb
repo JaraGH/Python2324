{
 "cells": [
  {
   "cell_type": "code",
   "execution_count": 1,
   "id": "6cb50130-925b-4833-b61c-294a295b1ebb",
   "metadata": {
    "tags": []
   },
   "outputs": [
    {
     "name": "stdout",
     "output_type": "stream",
     "text": [
      "False\n"
     ]
    }
   ],
   "source": [
    "# 1. Partimos de dos valores y queremos visualizar el mayor\n",
    "x = 10\n",
    "y = 20\n",
    "print (f'{x>y}')"
   ]
  },
  {
   "cell_type": "code",
   "execution_count": 2,
   "id": "1177ffb6-3ef0-42ee-bffd-07f312271862",
   "metadata": {
    "tags": []
   },
   "outputs": [
    {
     "name": "stdout",
     "output_type": "stream",
     "text": [
      "24\n",
      "625\n"
     ]
    }
   ],
   "source": [
    "# 2. Asigna tres valores a otras tantas variables y calcula su producto  y también (x+y) elevado a z.\n",
    "x,y,z = 2,3,4\n",
    "print (x*y*z)\n",
    "print ((x+y)**z)"
   ]
  },
  {
   "cell_type": "code",
   "execution_count": 3,
   "id": "7effe49d-eed5-43fd-923d-d409ecfc6e3a",
   "metadata": {
    "tags": []
   },
   "outputs": [
    {
     "name": "stdout",
     "output_type": "stream",
     "text": [
      "100 es <class 'int'>\n",
      "20.2 es <class 'float'>\n",
      "Terminator es <class 'str'>\n",
      "True es <class 'bool'>\n"
     ]
    }
   ],
   "source": [
    "# 3. Determina el tipo de datos de estas variables: \n",
    "x,y=100, 20.20\n",
    "nombre =\"Terminator\"\n",
    "encendido = True\n",
    "\n",
    "print(f'{x} es {type(x)}')\n",
    "print(f'{y} es {type(y)}')\n",
    "print(f'{nombre} es {type(nombre)}')\n",
    "print(f'{encendido} es {type(encendido)}')\n"
   ]
  },
  {
   "cell_type": "code",
   "execution_count": 4,
   "id": "ff796174-bea9-4ccb-8e6c-91734b8672bd",
   "metadata": {
    "tags": []
   },
   "outputs": [
    {
     "name": "stdout",
     "output_type": "stream",
     "text": [
      "x = 200\n",
      "y = 100\n"
     ]
    }
   ],
   "source": [
    "# 4. Intercambiar el valor de estas dos variables: x=100, y=200.\n",
    "x, y = 100, 200\n",
    "x,y = y,x\n",
    "print(f'x = {x}')\n",
    "print(f'y = {y}')"
   ]
  },
  {
   "cell_type": "code",
   "execution_count": 5,
   "id": "479162c8-82d3-40f9-9eb3-f84b3e016ae5",
   "metadata": {
    "tags": []
   },
   "outputs": [
    {
     "name": "stdout",
     "output_type": "stream",
     "text": [
      "Rugby WorldCup\n",
      "11\n",
      "3\n",
      "Primer carácter R\n",
      "Último carácter d\n",
      "R u g b y   W o r l d C u p \n",
      "Mayúsculas: RUGBY WORLDCUP\n",
      "Minúsculas: rugby worldcup\n",
      "Rugby World\n",
      "Cup\n"
     ]
    }
   ],
   "source": [
    "# 5. Partiendo de estas dos cadenas x=”Rugby World ”, y=”Cup”\n",
    "# Obtén la concatenación de x e y.\n",
    "x,y='Rugby World','Cup'\n",
    "concat = x + y\n",
    "print(concat)\n",
    "# Obtén la longitud de x e y.\n",
    "print (f'{len(x)}')\n",
    "print (f'{len(y)}')\n",
    "# Obtén el primer y último carácter de x..\n",
    "print(f'Primer carácter {x[0]}')\n",
    "print(f'Último carácter {x[-1]}')\n",
    "# Recorre la cadena suma y muestra uno a uno sus caracteres.\n",
    "for x in concat:\n",
    "    print (x, end= \" \")\n",
    "print()\n",
    "# Comprueba si la cadena “Cup” está contenida en la cadena suma.\n",
    "y in concat\n",
    "# Convierte la cadena suma a minúsculas y mayúsculas.\n",
    "print(f'Mayúsculas: {concat.upper()}')\n",
    "print(f'Minúsculas: {concat.lower()}')\n",
    "# Obtener la suma de las cadenas  x e y, pero con salto de línea entre ambas.\n",
    "x,y='Rugby World','Cup'\n",
    "concat = x + \"\\n\" +  y\n",
    "print(concat)\n"
   ]
  },
  {
   "cell_type": "code",
   "execution_count": 6,
   "id": "19efced8-306c-437e-8175-ded4a7e7a277",
   "metadata": {
    "tags": []
   },
   "outputs": [
    {
     "name": "stdout",
     "output_type": "stream",
     "text": [
      "280\n"
     ]
    }
   ],
   "source": [
    "# 6. Partimos de esta cadena “10,20,30,40,50,60,70”, queremos sumar los números que la forman.\n",
    "cadena = \"10,20,30,40,50,60,70\"\n",
    "lista = cadena.split(\",\")\n",
    "suma = 0\n",
    "for x in lista:\n",
    "    suma+=int(x)\n",
    "print(suma)\n"
   ]
  },
  {
   "cell_type": "code",
   "execution_count": 7,
   "id": "304a587c-57a5-4e43-8afe-0baa954cc57e",
   "metadata": {
    "tags": []
   },
   "outputs": [
    {
     "name": "stdout",
     "output_type": "stream",
     "text": [
      "17 20 13 13 17 15 16 14 18 13 \n",
      "156\n"
     ]
    }
   ],
   "source": [
    "# 7. Diseña un programa Python que genere 10 números aleatorios entre 10 y 20, \n",
    "# los visualice e imprima su suma.\n",
    "import random\n",
    "suma=0\n",
    "for _ in range(1,11,1):\n",
    "    numero = random.randint(10, 20)\n",
    "    print(numero, end=\" \")\n",
    "    suma+=numero\n",
    "print(f'\\n{suma}')"
   ]
  },
  {
   "cell_type": "code",
   "execution_count": 8,
   "id": "49f42efd-c577-4ccc-9da3-ab25db9e279b",
   "metadata": {
    "tags": []
   },
   "outputs": [
    {
     "name": "stdout",
     "output_type": "stream",
     "text": [
      "163 185 167 101 180 142 173 172 134 139 \n",
      "185\n"
     ]
    }
   ],
   "source": [
    "# 8.Diseña un programa Python que genere 10 números aleatorios entre 100 y 200, \n",
    "# los visualice e imprima el mayor de todos ellos.\n",
    "mayor=0\n",
    "primera=True\n",
    "for _ in range(1,11,1):\n",
    "    numero = random.randint(100, 200)\n",
    "    print(numero, end=\" \")\n",
    "    if (numero>mayor or primera==True):\n",
    "        mayor=numero\n",
    "        primera=False\n",
    "        \n",
    "print(f'\\n{mayor}')"
   ]
  },
  {
   "cell_type": "code",
   "execution_count": 9,
   "id": "70cee166-58ba-47d3-93b0-b7124c18bb11",
   "metadata": {
    "tags": []
   },
   "outputs": [
    {
     "name": "stdout",
     "output_type": "stream",
     "text": [
      "P y t h o n   v s   J a v a "
     ]
    }
   ],
   "source": [
    "# 9. Mostrar en una misma línea y de forma individual \n",
    "# los caracteres de esta cadena: “Python vs Java”.\n",
    "cadena ='Python vs Java'\n",
    "for _ in cadena:\n",
    "    print (_, end=\" \")\n"
   ]
  },
  {
   "cell_type": "code",
   "execution_count": 10,
   "id": "21af2a2e-b038-4788-9169-512c3e91d7b4",
   "metadata": {
    "tags": []
   },
   "outputs": [
    {
     "name": "stdout",
     "output_type": "stream",
     "text": [
      "Mayúsculas: Python vs java\n",
      "Mayúsculas: PYTHON VS jAVA\n"
     ]
    }
   ],
   "source": [
    "# 10. Mostrar esta cadena en mayúsculas, minúsculas y primer carácter en mayúscula: “Python vs Java”.\n",
    "cadena ='python vs Java'\n",
    "print (f'Mayúsculas: {cadena.capitalize()}')\n",
    "print (f'Mayúsculas: {cadena.swapcase()}')"
   ]
  },
  {
   "cell_type": "code",
   "execution_count": 11,
   "id": "9b885f1c-7303-40d5-ad51-dcdb38c5878c",
   "metadata": {
    "tags": []
   },
   "outputs": [
    {
     "name": "stdout",
     "output_type": "stream",
     "text": [
      "5050\n"
     ]
    }
   ],
   "source": [
    "# 11. Calcular la suma de los enteros del 1 al 100.\n",
    "s = 0\n",
    "for _ in range(1,101,1):\n",
    "    s += _\n",
    "print(s)"
   ]
  },
  {
   "cell_type": "code",
   "execution_count": 12,
   "id": "1d9a7224-7dce-4a45-85e0-379fccd6f488",
   "metadata": {
    "tags": []
   },
   "outputs": [
    {
     "name": "stdout",
     "output_type": "stream",
     "text": [
      "2550\n"
     ]
    }
   ],
   "source": [
    "# 12. Calcular la suma de los pares del 2 al 100.\n",
    "s = 0\n",
    "for _ in range(2, 102, 2):\n",
    "    s += _\n",
    "print(s)"
   ]
  },
  {
   "cell_type": "code",
   "execution_count": 13,
   "id": "0f8398b9-2dab-45ac-a8f0-4505d9358380",
   "metadata": {
    "tags": []
   },
   "outputs": [
    {
     "name": "stdout",
     "output_type": "stream",
     "text": [
      "2403000\n"
     ]
    }
   ],
   "source": [
    "# 13. Calcular la suma de los múltiplos de 5 existentes entre 1000 y 5000.\n",
    "s = 0\n",
    "for _ in range(1000, 5005, 5):\n",
    "    s += _\n",
    "print(s)"
   ]
  },
  {
   "cell_type": "code",
   "execution_count": 14,
   "id": "1e095e18-7b8c-4f45-93a3-848b4a38e393",
   "metadata": {
    "tags": []
   },
   "outputs": [
    {
     "name": "stdout",
     "output_type": "stream",
     "text": [
      "10-9-8-7-6-5-4-3-2-1-"
     ]
    }
   ],
   "source": [
    "# 14. Cuenta atrás. Mostrar los valores del 10 al 1.\n",
    "for _ in range(10,0,-1):\n",
    "    print(_, end=\"-\")"
   ]
  },
  {
   "cell_type": "code",
   "execution_count": 6,
   "id": "900d0dcc-7bb9-46b9-a1df-78b193db36f8",
   "metadata": {},
   "outputs": [
    {
     "name": "stdout",
     "output_type": "stream",
     "text": [
      "               **\n",
      "              ****\n",
      "            ********\n",
      "        ****************\n",
      "********************************\n"
     ]
    }
   ],
   "source": [
    "# 15. Pirámide\n",
    "filas=5\n",
    "asteriscos=\"**\"\n",
    "asteriscos_final=2**filas\n",
    "un_blanco=\" \"\n",
    "for i in range(1,filas+1,1):\n",
    "    numero_blancos = int((asteriscos_final - len(asteriscos))/2)\n",
    "    blancos = un_blanco*numero_blancos\n",
    "    print(blancos+asteriscos)\n",
    "    #print(asteriscos)\n",
    "    asteriscos*=2\n"
   ]
  },
  {
   "cell_type": "code",
   "execution_count": null,
   "id": "6cb1280d-eb7e-4b00-8da2-8a7382bcd72b",
   "metadata": {},
   "outputs": [],
   "source": []
  }
 ],
 "metadata": {
  "kernelspec": {
   "display_name": "Python 3 (ipykernel)",
   "language": "python",
   "name": "python3"
  },
  "language_info": {
   "codemirror_mode": {
    "name": "ipython",
    "version": 3
   },
   "file_extension": ".py",
   "mimetype": "text/x-python",
   "name": "python",
   "nbconvert_exporter": "python",
   "pygments_lexer": "ipython3",
   "version": "3.8.17"
  }
 },
 "nbformat": 4,
 "nbformat_minor": 5
}
