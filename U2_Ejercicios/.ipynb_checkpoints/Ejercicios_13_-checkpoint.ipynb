{
 "cells": [
  {
   "cell_type": "code",
   "execution_count": 11,
   "id": "be21c8d0-efb3-4ad7-a4e0-8eedb1ef6915",
   "metadata": {
    "tags": []
   },
   "outputs": [
    {
     "name": "stdout",
     "output_type": "stream",
     "text": [
      "[7, 22, 20, 19, 15, 23, 10, 12]\n",
      "[12, 10, 23, 15, 19, 20, 22, 7]\n"
     ]
    }
   ],
   "source": [
    "# 13. A partir de esta lista de números, lista =  [12, 10, 23, 15, 19, 20, 22, 7], \n",
    "# obtener otra como resultado de multiplicar cada valor de la lista inicial por 3.\n",
    "lista =  [12, 10, 23, 15, 19, 20, 22, 7]\n",
    "#lista.reverse()\n",
    "\n",
    "print(lista[::-1])\n",
    "print(lista)\n"
   ]
  },
  {
   "cell_type": "code",
   "execution_count": 12,
   "id": "810103e4-ba98-44c0-8388-920b5a3e8d33",
   "metadata": {
    "tags": []
   },
   "outputs": [
    {
     "data": {
      "text/plain": [
       "['fresa', 'melocotón', 'plátano', 'melón', 'sandía']"
      ]
     },
     "execution_count": 12,
     "metadata": {},
     "output_type": "execute_result"
    }
   ],
   "source": [
    "# 14. Recorrer esta lista desde el final al principio. \n",
    "frutas = ['sandía', 'melón', 'plátano', 'melocotón', 'fresa']\n",
    "frutas[::-1]"
   ]
  },
  {
   "cell_type": "code",
   "execution_count": 13,
   "id": "9337f6d0-a220-47e1-9c44-1c9cc6158629",
   "metadata": {
    "tags": []
   },
   "outputs": [
    {
     "data": {
      "text/plain": [
       "[1, 2, 3, 4, 5, 6, 7, 8, 9, 10, 11, 12, 13, 14, 15, 16, 17, 18, 19, 20]"
      ]
     },
     "execution_count": 13,
     "metadata": {},
     "output_type": "execute_result"
    }
   ],
   "source": [
    "# 15. Genera una lista con los valores pares del 1 al 20.\n",
    "lista = [x for x in range(1,21,1)]\n",
    "lista"
   ]
  },
  {
   "cell_type": "code",
   "execution_count": 14,
   "id": "e0f8a840-2b89-44b1-bdc6-3daeec7586b8",
   "metadata": {
    "tags": []
   },
   "outputs": [
    {
     "name": "stdout",
     "output_type": "stream",
     "text": [
      "[1, 2, 3, 4, 5, 6, 7, 8, 9, 10, 11]\n",
      "[12, 13, 14, 15, 16, 17, 18, 19, 20]\n"
     ]
    }
   ],
   "source": [
    "# Dividir la lista en dos x la mitad.\n",
    "lista1 = lista[:11:1]\n",
    "lista2 = lista[11::1]\n",
    "print(lista1)\n",
    "print(lista2)"
   ]
  },
  {
   "cell_type": "code",
   "execution_count": 18,
   "id": "7e558a03-fe1b-4eb3-8065-872cd68ca09b",
   "metadata": {
    "tags": []
   },
   "outputs": [
    {
     "data": {
      "text/plain": [
       "[20, 19, 18, 17, 16]"
      ]
     },
     "execution_count": 18,
     "metadata": {},
     "output_type": "execute_result"
    }
   ],
   "source": [
    "# 16. Genera una lista con los valores pares del 1 al 20 y \n",
    "#a partir de ella obtener otra lista con los 5 valores  del final.\n",
    "# el ultimo valor de la lista original será el primero en la nueva lista\n",
    "lista = [x for x in range(1,21,1)]\n",
    "cinco_ultimo= lista[-1:-6:-1]\n",
    "cinco_ultimo"
   ]
  },
  {
   "cell_type": "code",
   "execution_count": null,
   "id": "bcf02b38-cc7b-4dac-bc37-1b6b5473255d",
   "metadata": {},
   "outputs": [],
   "source": []
  }
 ],
 "metadata": {
  "kernelspec": {
   "display_name": "Python 3 (ipykernel)",
   "language": "python",
   "name": "python3"
  },
  "language_info": {
   "codemirror_mode": {
    "name": "ipython",
    "version": 3
   },
   "file_extension": ".py",
   "mimetype": "text/x-python",
   "name": "python",
   "nbconvert_exporter": "python",
   "pygments_lexer": "ipython3",
   "version": "3.8.17"
  }
 },
 "nbformat": 4,
 "nbformat_minor": 5
}
