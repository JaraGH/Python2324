{
 "cells": [
  {
   "cell_type": "code",
   "execution_count": 8,
   "id": "28d17728-13af-47c8-8de8-82f990677563",
   "metadata": {
    "tags": []
   },
   "outputs": [
    {
     "name": "stdout",
     "output_type": "stream",
     "text": [
      "220\n",
      "False\n"
     ]
    }
   ],
   "source": [
    "# 1. Diseña una aplicación en Python que permita comprobar si dos números enteros son amigos o no. \n",
    "# Debe incluir una función que retorne la suma  de los divisores de un número pasado \n",
    "# y otra que retorne True/False, según los números sumados sean amigos o no.\n",
    "\n",
    "def sumaDivisores(n):\n",
    "    suma=0\n",
    "    for i in range(1, n//2+1, 1):\n",
    "        if n%i==0:\n",
    "            suma+=i\n",
    "    print(suma)\n",
    "    return suma\n",
    "\n",
    "def sonAmigos(n1, n2):\n",
    "    return n1==sumaDivisores(n2) and n2==sumaDivisores(n1)\n",
    "\n",
    "####################\n",
    "n1, n2=221,284\n",
    "print (sonAmigos(n1, n2))\n",
    "\n"
   ]
  },
  {
   "cell_type": "code",
   "execution_count": 11,
   "id": "dfa14c55-0e0d-4a44-8a9c-4b6b43802696",
   "metadata": {
    "tags": []
   },
   "outputs": [
    {
     "data": {
      "text/plain": [
       "[2000, 2023, 2033, 2022, 2019, 2001]"
      ]
     },
     "execution_count": 11,
     "metadata": {},
     "output_type": "execute_result"
    }
   ],
   "source": [
    "# 2. Diseña una aplicación Python que contenga una función capaz de retornar una lista de enteros,\n",
    "# a partir de una cadena cuyos valores están separados por  “;”.\n",
    "anios = \"2000;2023;2033;2022;2019;2001\"\n",
    "lista = anios.split(\";\")\n",
    "enteros = [int(x) for x in lista]\n",
    "enteros\n"
   ]
  },
  {
   "cell_type": "code",
   "execution_count": 14,
   "id": "bc862b36-83c8-410e-8417-9627e2d0b710",
   "metadata": {
    "tags": []
   },
   "outputs": [
    {
     "data": {
      "text/plain": [
       "[2, 1, -3, 5]"
      ]
     },
     "execution_count": 14,
     "metadata": {},
     "output_type": "execute_result"
    }
   ],
   "source": [
    "# 3. Convertir esta lista de valores de tipo texto en una lista de enteros mediante una función.\n",
    "# valores = [\"2.0\", \"1\", \"-3.4\", \"5.6\"]\n",
    "valores = [\"2.0\", \"1\", \"-3.4\", \"5.6\"]\n",
    "\n",
    "def listInt(listaO):\n",
    "    return [int(float(x)) for x in listaO]\n",
    "\n",
    "l = listInt(valores)\n",
    "l"
   ]
  },
  {
   "cell_type": "code",
   "execution_count": 26,
   "id": "a1fddbad-8dea-47d1-90d1-24d403f63869",
   "metadata": {
    "tags": []
   },
   "outputs": [
    {
     "name": "stdin",
     "output_type": "stream",
     "text": [
      "Teclea varios números separados por coma 1,2,3\n"
     ]
    },
    {
     "name": "stdout",
     "output_type": "stream",
     "text": [
      "(1, 2, 3)\n"
     ]
    }
   ],
   "source": [
    "# 4. Escribe un programa  Python que acepte del usuario una serie  de números separados por coma y\n",
    "# los convierta en una lista y en una tupla. Diseña sendas funciones.\n",
    "\n",
    "def toColect(cadena, tipoRetorno, separador):\n",
    "    serie = cadena.split(separador)\n",
    "    if tipoRetorno=='L':        \n",
    "        return [int(x) for x in serie]\n",
    "    elif tipoRetorno=='T':\n",
    "        return tuple(int(x) for x in serie)\n",
    "\n",
    "entrada = input(\"Teclea varios números separados por coma\")\n",
    "lista = toColect(entrada, 'T', ',')\n",
    "print(lista)"
   ]
  },
  {
   "cell_type": "code",
   "execution_count": 34,
   "id": "b9a40371-9851-46bf-9f30-07128b655474",
   "metadata": {
    "tags": []
   },
   "outputs": [
    {
     "name": "stdout",
     "output_type": "stream",
     "text": [
      "4\n",
      "44\n",
      "444\n",
      "4444\n"
     ]
    },
    {
     "data": {
      "text/plain": [
       "4936"
      ]
     },
     "execution_count": 34,
     "metadata": {},
     "output_type": "execute_result"
    }
   ],
   "source": [
    "# 5. Diseña un programa Python que haga lo siguiente:\n",
    "# Ejemplo 1:\n",
    "# entero=5\n",
    "# veces=3\n",
    "#suma = 5 + 55+ 555 \n",
    "# Ejemplo 2:\n",
    "# entero=4\n",
    "# veces=2\n",
    "# suma = 4 + 44\n",
    "entero=4\n",
    "veces=4\n",
    "suma=0\n",
    "ent=str(entero)\n",
    "for x in range(1, veces+1, 1):\n",
    "    print(ent)\n",
    "    valor = int (ent)\n",
    "    suma+=valor\n",
    "    ent+=str(entero)\n",
    "    \n",
    "suma"
   ]
  },
  {
   "cell_type": "code",
   "execution_count": 10,
   "id": "a59cd917-1bd2-4fc4-b31c-6b01f270e721",
   "metadata": {},
   "outputs": [
    {
     "name": "stdout",
     "output_type": "stream",
     "text": [
      "*\n",
      "**\n",
      "***\n",
      "****\n",
      "*****\n",
      "****\n",
      "***\n",
      "**\n",
      "*\n"
     ]
    }
   ],
   "source": [
    "# 10. Dibuja una pirámide como esta. El dato de partida es el número máximo de asteriscos.\n",
    "import math\n",
    "maximo = 5\n",
    "filas = maximo + math.ceil(maximo/2) +1\n",
    "\n",
    "asteriscos='*'\n",
    "for i in range(1, filas+1):\n",
    "    print (asteriscos)\n",
    "    if i<maximo:\n",
    "        asteriscos+='*'\n",
    "    else:\n",
    "        asteriscos=asteriscos[0:len(asteriscos)-1]\n",
    "\n",
    "\n",
    "\n"
   ]
  },
  {
   "cell_type": "code",
   "execution_count": 16,
   "id": "f5bc2af7-18f8-4e2e-a15b-6c662dff5591",
   "metadata": {
    "tags": []
   },
   "outputs": [
    {
     "name": "stdout",
     "output_type": "stream",
     "text": [
      "1\n",
      "2\n",
      "Fizz\n",
      "4\n",
      "Buzz\n",
      "Fizz\n",
      "7\n",
      "8\n",
      "Fizz\n",
      "Buzz\n",
      "11\n",
      "Fizz\n",
      "13\n",
      "14\n",
      "FizzBuzz\n",
      "16\n",
      "17\n",
      "Fizz\n",
      "19\n",
      "Buzz\n",
      "Fizz\n",
      "22\n",
      "23\n",
      "Fizz\n",
      "Buzz\n",
      "26\n",
      "Fizz\n",
      "28\n",
      "29\n",
      "FizzBuzz\n",
      "31\n",
      "32\n",
      "Fizz\n",
      "34\n",
      "Buzz\n",
      "Fizz\n",
      "37\n",
      "38\n",
      "Fizz\n",
      "Buzz\n",
      "41\n",
      "Fizz\n",
      "43\n",
      "44\n",
      "FizzBuzz\n",
      "46\n",
      "47\n",
      "Fizz\n",
      "49\n",
      "Buzz\n"
     ]
    }
   ],
   "source": [
    "# 11. Escribe un programa Python que recorra e imprima los enteros entre 1 y 50. Para los múltiplos de tres debe mostrar “Fizz” en lugar del número. \n",
    "#Para los múltiplos de 5 debe mostrar la cadena “Buzz” en lugar del \n",
    "# número, y para los múltiplos de 3 y 5 mostrará la cadena “FizzBuzz”. \n",
    "\n",
    "for i in range(1,51):\n",
    "    if i%3==0 and i%5==0:\n",
    "        print (\"FizzBuzz\")\n",
    "    elif i%5==0:\n",
    "        print (\"Buzz\")\n",
    "    elif i%3==0:\n",
    "        print(\"Fizz\")\n",
    "    else:\n",
    "        print(i)\n",
    "\n",
    "               "
   ]
  },
  {
   "cell_type": "code",
   "execution_count": 26,
   "id": "6c7d8bf6-f514-4dfc-ab0b-7ee8e705c093",
   "metadata": {
    "tags": []
   },
   "outputs": [
    {
     "name": "stdout",
     "output_type": "stream",
     "text": [
      "Letras: hola1234asd5\n",
      "Letras: 7\n",
      "Números: 5\n"
     ]
    }
   ],
   "source": [
    "# 12. Diseña un programa Python que acepte una cadena como entrada y muestre el número de letras y dígitos que tiene.\n",
    "import sys\n",
    "\n",
    "#version = sys.version\n",
    "version='hola1234asd5'\n",
    "\n",
    "letters=0\n",
    "numbers=0\n",
    "for x in version:\n",
    "    if str.isalpha(x)==True:\n",
    "        letters+=1\n",
    "    elif str.isdigit(x):\n",
    "        numbers+=1\n",
    "print(f'Letras: {version}')\n",
    "print(f'Letras: {letters}')\n",
    "print(f'Números: {numbers}')\n",
    "\n"
   ]
  },
  {
   "cell_type": "code",
   "execution_count": 31,
   "id": "c8e72ca0-7eaf-4081-b896-56b9720c3211",
   "metadata": {
    "tags": []
   },
   "outputs": [
    {
     "name": "stdout",
     "output_type": "stream",
     "text": [
      "pez011 es válida False\n",
      "espada@A1 es válida True\n",
      "1234aE@ es válida True\n"
     ]
    }
   ],
   "source": [
    "# 13. Escribe un programa Python que chequee si una password es válida o no. Es válida si tiene:\n",
    "# Al menos una letra entre a-z y otra entre A-Z.\n",
    "# Al menos un dígito 0-9.\n",
    "# Al menos un carácter entre estos [S#@]\n",
    "# Un mínimo de 6 caracteres y un máximo de 16. \n",
    "\n",
    "def validPassword(password):\n",
    "    valid_chars = '$#@'\n",
    "    l = len(password)\n",
    "    if l>=6 and l<=16:\n",
    "        lower_letter = False\n",
    "        upper_letter = False\n",
    "        digit_char = False\n",
    "        valid_char = False\n",
    "        \n",
    "        for c in password:\n",
    "            if str.islower(c):\n",
    "                lower_letter=True\n",
    "            elif str.isupper(c):\n",
    "                upper_letter=True\n",
    "            elif str.isdigit(c):\n",
    "                digit_char=True\n",
    "            elif c in valid_chars:\n",
    "                valid_char=True\n",
    "            elif c not in valid_chars:\n",
    "                return False\n",
    "        \n",
    "        if lower_letter and upper_letter and digit_char and valid_char:\n",
    "            return True\n",
    "        else:\n",
    "            return False\n",
    "        \n",
    "    else:\n",
    "        return False\n",
    "\n",
    "strings = ['pez011', 'espada@A1', '1234aE@']\n",
    "\n",
    "for x in strings:\n",
    "    print(f'{x} es válida {validPassword(x)}')\n",
    "    \n",
    "    "
   ]
  },
  {
   "cell_type": "code",
   "execution_count": 35,
   "id": "6472b7cd-a8d2-4a1a-9011-078f753bcaf1",
   "metadata": {
    "tags": []
   },
   "outputs": [
    {
     "name": "stdout",
     "output_type": "stream",
     "text": [
      "200,202,204,206,208,220,222,224,226,228,240,242,244,246,248,260,262,264,266,268,280,282,284,286,288,400 "
     ]
    }
   ],
   "source": [
    "# 14. Escribe un programa Python que encuentre los númeos entre 100 y 400 (incluidos) donde \n",
    "# cada dígito de ese número sea par. Ejemplo: 20, 22 , 24, 26, 28\n",
    "bottom=100\n",
    "top=401\n",
    "\n",
    "for n in range(bottom, top, 2):\n",
    "    \n",
    "    todos_pares=True\n",
    "    for digit in str(n):\n",
    "        num = int(digit)\n",
    "        if num%2!=0:\n",
    "            todos_pares=False\n",
    "            break\n",
    "    if todos_pares:\n",
    "        if n<top-1:\n",
    "            print (n, end =\",\")\n",
    "        else:\n",
    "            print (n, end =\" \")\n",
    "            \n",
    "    \n",
    "    "
   ]
  },
  {
   "cell_type": "code",
   "execution_count": 11,
   "id": "93745089-eff8-46d9-9959-71607c210f10",
   "metadata": {},
   "outputs": [
    {
     "name": "stdout",
     "output_type": "stream",
     "text": [
      "1\n",
      "2\n",
      "3\n"
     ]
    },
    {
     "data": {
      "text/plain": [
       "6"
      ]
     },
     "execution_count": 11,
     "metadata": {},
     "output_type": "execute_result"
    }
   ],
   "source": [
    "# 15. Función que recibe una lista indefinida de valores y los suma si son números\n",
    "\n",
    "def suma_valores(*lista):\n",
    "    suma=0\n",
    "    for n in lista:\n",
    "        if isinstance(n, int) and not isinstance(n, bool) :\n",
    "            suma+=n\n",
    "    return suma\n",
    "\n",
    "tupla =(1,2,3,'hola', True)\n",
    "lista= [1,1,0,True, 12.03,'asdf']\n",
    "s = suma_valores(1,2,3)\n",
    "s"
   ]
  },
  {
   "cell_type": "code",
   "execution_count": null,
   "id": "b35a8c28-5381-464a-ad4e-31f24b127ac8",
   "metadata": {},
   "outputs": [],
   "source": [
    "# 16. Función que buscar varios valores en una lista\n",
    "# Retorna True/False para cada uno\n",
    "\n",
    "def buscar_en_lista(lista, *valores):    \n",
    "    return [True if v in lista else False for v in valores]    "
   ]
  },
  {
   "cell_type": "code",
   "execution_count": 12,
   "id": "ccf57f4e-e420-4ec8-a609-353a0c266ff0",
   "metadata": {
    "tags": []
   },
   "outputs": [
    {
     "name": "stdout",
     "output_type": "stream",
     "text": [
      "Suma: 6\n",
      "Suma: 3\n",
      "Suma: 3\n"
     ]
    }
   ],
   "source": [
    "# 17. Diseña un programa Python que contenga una función que reciba un número indeterminado de \n",
    "# parámetros y retorne la suma los que sean numéricos \n",
    "\n",
    "def sumaValores (*args):\n",
    "    s=0\n",
    "    for x in args:\n",
    "        if (isinstance(x,int) and not isinstance(x, bool)) or isinstance(x, float):\n",
    "           s+=x\n",
    "    return s\n",
    "\n",
    "print(f'Suma: {sumaValores(True,\"hola\",1,2,3)}')\n",
    "print(f'Suma: {sumaValores(*[1,2,True,\"xxx\"])}')\n",
    "print(f'Suma: {sumaValores(*(1,2,True,\"xxx\"))}')"
   ]
  },
  {
   "cell_type": "code",
   "execution_count": 14,
   "id": "ba713498-3a6e-43bc-91cd-77ff9bbc2543",
   "metadata": {
    "tags": []
   },
   "outputs": [
    {
     "name": "stdout",
     "output_type": "stream",
     "text": [
      "Factorial de 0: 1\n",
      "Factorial de 1: 1\n",
      "Factorial de 2: 2\n",
      "Factorial de 3: 6\n",
      "Factorial de 4: 24\n",
      "Factorial de 5: 120\n",
      "Factorial de 6: 720\n",
      "Factorial de 7: 5040\n",
      "Factorial de 8: 40320\n",
      "Factorial de 9: 362880\n"
     ]
    }
   ],
   "source": [
    "# 18. Diseña una función lambda que retorne el factorial de un número.\n",
    "\n",
    "factorial = lambda x: 1 if x==0 else x * factorial(x-1)\n",
    "\n",
    "for x in range(10):\n",
    "    print(f'Factorial de {x}: {factorial(x)}')\n",
    "\n",
    "    "
   ]
  },
  {
   "cell_type": "code",
   "execution_count": 15,
   "id": "3e5b742e-e1fb-46b8-a542-ed588be3d2f5",
   "metadata": {
    "tags": []
   },
   "outputs": [
    {
     "name": "stdout",
     "output_type": "stream",
     "text": [
      "1-2\n",
      "Python-3\n"
     ]
    }
   ],
   "source": [
    "# 19. Diseña una función lambda que reciba dos argumentos y los retorne concatenados y \n",
    "# separados por un guión.\n",
    "\n",
    "concatena = lambda x,y: str(x)+'-'+str(y)\n",
    "\n",
    "print(concatena(1,2))\n",
    "print(concatena('Python',3))\n",
    "\n"
   ]
  },
  {
   "cell_type": "code",
   "execution_count": 25,
   "id": "66d87757-f830-4984-b466-030bc2cbad7c",
   "metadata": {
    "tags": []
   },
   "outputs": [
    {
     "name": "stdout",
     "output_type": "stream",
     "text": [
      "Es primo 0: False\n",
      "Es primo 1: False\n",
      "Es primo 2: True\n",
      "Es primo 3: True\n",
      "Es primo 4: True\n",
      "Es primo 5: True\n",
      "Es primo 6: False\n",
      "Es primo 7: True\n",
      "Es primo 8: False\n",
      "Es primo 9: False\n",
      "Es primo 10: False\n",
      "Es primo 11: True\n",
      "Es primo 12: False\n",
      "Es primo 13: True\n",
      "Es primo 14: False\n",
      "Es primo 15: False\n",
      "Es primo 16: False\n",
      "Es primo 17: True\n",
      "Es primo 18: False\n",
      "Es primo 19: True\n"
     ]
    }
   ],
   "source": [
    "# 20. Diseña una función lambda que retorne si un número es primo o no  haciendo uso de otra función.\n",
    "\n",
    "f_primo = lambda x: True if esPrimo(x) else False\n",
    "\n",
    "def esPrimo(n):\n",
    "    if n<2:\n",
    "        return False\n",
    "    else:\n",
    "        for x in range(2, n//2):            \n",
    "            if n%x==0:\n",
    "                return False\n",
    "        return True\n",
    "            \n",
    "\n",
    "for x in range(20):\n",
    "    print(f'Es primo {x}: {f_primo(x)}')"
   ]
  },
  {
   "cell_type": "code",
   "execution_count": 26,
   "id": "a1cb87e5-b1f0-4361-b0e2-dc84a7189d72",
   "metadata": {},
   "outputs": [
    {
     "data": {
      "text/plain": [
       "[('Marta', 1.8), ('Luis', 2.0), ('Gema', 1.95)]"
      ]
     },
     "execution_count": 26,
     "metadata": {},
     "output_type": "execute_result"
    }
   ],
   "source": [
    "# 21. Mediante una función lambda, ordenar esta lista, players = [('Marta', 1.80), ('Luis', 2.00), ('Gema', 1.95)] \n",
    "#por nombre\n",
    "# por altura (ASC y DESC)\n",
    "players = [('Marta', 1.80), ('Luis', 2.00), ('Gema', 1.95)]\n",
    "sorted_players = sorted(players, key=lambda x: x[0], reverse=True)\n",
    "sorted_players\n"
   ]
  },
  {
   "cell_type": "code",
   "execution_count": 27,
   "id": "5db9ba38-a18b-4310-8517-4a3d75055241",
   "metadata": {},
   "outputs": [
    {
     "name": "stdout",
     "output_type": "stream",
     "text": [
      "[22, 2, 10, 20]\n"
     ]
    }
   ],
   "source": [
    "# 22. Filtrar una lista mediante lambda y la función filter. A partir de esta lista, \n",
    "# lst = [33, 3, 22, 2, 11, 1, 10, 20], obtener solo los pares.\n",
    "lst = [33, 3, 22, 2, 11, 1, 10, 20]\n",
    "lst = [33, 3, 22, 2, 11, 1, 10, 20]\n",
    "l = list(filter (lambda x: x%2==0, lst))\n",
    "print(l)"
   ]
  },
  {
   "cell_type": "code",
   "execution_count": 34,
   "id": "88ab28ec-b610-4d76-abc2-754736e05094",
   "metadata": {
    "tags": []
   },
   "outputs": [
    {
     "name": "stdout",
     "output_type": "stream",
     "text": [
      "red\n",
      "blue\n",
      "green\n"
     ]
    }
   ],
   "source": [
    "# 23. Diseña un generador que retorne el siguiente elemento de la serie de Fibonacci,\n",
    "\n",
    "lista = ['red', 'blue', 'green', 'pink' , 'black', 'white']    \n",
    "def get_color(lista):\n",
    "    \n",
    "    for x in lista:\n",
    "        yield x\n",
    "\n",
    "f = get_color(lista)\n",
    "print (next(f))\n",
    "print (next(f))\n",
    "print (next(f))\n"
   ]
  },
  {
   "cell_type": "code",
   "execution_count": 38,
   "id": "e6ca4bd7-4e76-458a-9e93-a5145fd68440",
   "metadata": {
    "tags": []
   },
   "outputs": [
    {
     "name": "stdout",
     "output_type": "stream",
     "text": [
      "0\n",
      "1\n",
      "1\n",
      "2\n",
      "3\n",
      "5\n",
      "8\n",
      "13\n",
      "21\n",
      "34\n"
     ]
    }
   ],
   "source": [
    "# 24. Diseña un generador que retorne el siguiente elemento de la serie de Fibonacci. \n",
    "# Llama a este generador 10 veces.\n",
    "\n",
    "def siguienteFibo():\n",
    "    ant=-1\n",
    "    sig=1\n",
    "    while True:\n",
    "        act = ant + sig\n",
    "        ant=sig\n",
    "        sig=act\n",
    "        yield act\n",
    "\n",
    "fibo = siguienteFibo()\n",
    "\n",
    "for x in range(10):\n",
    "    print (next(fibo))"
   ]
  },
  {
   "cell_type": "code",
<<<<<<< HEAD
   "execution_count": null,
   "id": "b6cf73b0-a650-487a-9d54-241e4a1ecea1",
=======
   "execution_count": 6,
   "id": "a1cb87e5-b1f0-4361-b0e2-dc84a7189d72",
   "metadata": {
    "tags": []
   },
   "outputs": [
    {
     "data": {
      "text/plain": [
       "[('Marta', 1.8), ('Luis', 2.0), ('Gema', 1.95)]"
      ]
     },
     "execution_count": 6,
     "metadata": {},
     "output_type": "execute_result"
    }
   ],
   "source": [
    "# 21. Mediante una función lambda, ordenar esta lista, players = [('Marta', 1.80), ('Luis', 2.00), ('Gema', 1.95)] \n",
    "players = [('Marta', 1.80), ('Luis', 2.00), ('Gema', 1.95)]\n",
    "sorted_players = sorted(players, key=lambda x: x[0], reverse=True)\n",
    "sorted_players"
   ]
  },
  {
   "cell_type": "code",
   "execution_count": 13,
   "id": "3efee070-2eae-494e-8523-2f5c7cd8dc29",
   "metadata": {
    "tags": []
   },
   "outputs": [
    {
     "data": {
      "text/plain": [
       "[22, 2, 10, 20]"
      ]
     },
     "execution_count": 13,
     "metadata": {},
     "output_type": "execute_result"
    }
   ],
   "source": [
    "# 22. Filtrar una lista mediante lambda y la función filter. A partir de esta lista, \n",
    "# lst = [33, 3, 22, 2, 11, 1, 10, 20], obtener solo los pares.\n",
    "lst = [33, 3, 22, 2, 11, 1, 10, 20]\n",
    "l = list(filter (lambda x: x%2==0, lst))\n",
    "l"
   ]
  },
  {
   "cell_type": "code",
   "execution_count": null,
   "id": "f946d5fd-1de3-4c76-86fa-d0b07464a087",
>>>>>>> ba02f4714126d3ad2603fd4901982fd2abe4583a
   "metadata": {},
   "outputs": [],
   "source": [
    "a = [1, 2, 3, 5, 7, 8, 9, 10]\n",
    "b = [1, 2, 4, 8, 9]\n",
    "c = lambda x: x in a,b"
   ]
  }
 ],
 "metadata": {
  "kernelspec": {
   "display_name": "Python 3 (ipykernel)",
   "language": "python",
   "name": "python3"
  },
  "language_info": {
   "codemirror_mode": {
    "name": "ipython",
    "version": 3
   },
   "file_extension": ".py",
   "mimetype": "text/x-python",
   "name": "python",
   "nbconvert_exporter": "python",
   "pygments_lexer": "ipython3",
   "version": "3.11.4"
  }
 },
 "nbformat": 4,
 "nbformat_minor": 5
}
